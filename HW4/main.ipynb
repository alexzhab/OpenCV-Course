{
 "cells": [
  {
   "cell_type": "code",
   "execution_count": 196,
   "metadata": {},
   "outputs": [],
   "source": [
    "import numpy as np\n",
    "import cv2 as cv\n",
    "import os\n",
    "import re"
   ]
  },
  {
   "cell_type": "code",
   "execution_count": 197,
   "metadata": {},
   "outputs": [
    {
     "name": "stdout",
     "output_type": "stream",
     "text": [
      "[[533.56891062   0.         341.53147724]\n",
      " [  0.         533.69352277 231.41094257]\n",
      " [  0.           0.           1.        ]]\n"
     ]
    }
   ],
   "source": [
    "criteria = (cv.TERM_CRITERIA_EPS + cv.TERM_CRITERIA_MAX_ITER, 30, 0.001)\n",
    "\n",
    "objp = np.zeros((6*7, 3), np.float32)\n",
    "objp[:,:2] = np.mgrid[0:7,0:6].T.reshape(-1,2)\n",
    "\n",
    "objpoints = []\n",
    "imgpoints = []\n",
    "image_paths = [os.path.join(\"./samples\", path) for path in os.listdir(\"./samples/\")]\n",
    "\n",
    "for path in image_paths:\n",
    "    img = cv.imread(path)\n",
    "    gray = cv.cvtColor(img, cv.COLOR_BGR2GRAY)\n",
    "\n",
    "    ret, corners = cv.findChessboardCorners(gray, (7,6), None)\n",
    "    if ret is True:\n",
    "        objpoints.append(objp)\n",
    "        corners2 = cv.cornerSubPix(gray,corners, (7,6), (-1,-1), criteria)\n",
    "        imgpoints.append(corners2)\n",
    "\n",
    "ret, mtx, dist, rvecs, tvecs = cv.calibrateCamera(objpoints, imgpoints, gray.shape[::-1], None, None)\n",
    "print(mtx)\n",
    "np.savez(\"calibration_matrix.npz\", mtx=mtx, dist=dist, rvecs=rvecs, tvecs=tvecs)"
   ]
  },
  {
   "cell_type": "code",
   "execution_count": 198,
   "metadata": {},
   "outputs": [
    {
     "data": {
      "text/plain": [
       "True"
      ]
     },
     "execution_count": 198,
     "metadata": {},
     "output_type": "execute_result"
    }
   ],
   "source": [
    "img_path = \"./samples/left02.jpg\"\n",
    "img = cv.imread(img_path)\n",
    "h, w = img.shape[:2]\n",
    "mapx, mapy = cv.initUndistortRectifyMap(mtx, dist, None, None, (w,h), cv.CV_16SC2)\n",
    "dst = cv.remap(img, mapx, mapy, cv.INTER_LINEAR)\n",
    "cv.imwrite(f\"./after_undistort/{re.split(\"[//.]\", img_path)[-2]}.png\", dst)"
   ]
  },
  {
   "cell_type": "code",
   "execution_count": 199,
   "metadata": {},
   "outputs": [],
   "source": [
    "with np.load(\"calibration_matrix.npz\") as X:\n",
    "    mtx, dist, _, _ = [X[i] for i in ('mtx','dist','rvecs','tvecs')]\n",
    "\n",
    "img_path = \"./with_crosses/02.png\"\n",
    "img = cv.imread(img_path)\n",
    "gray = cv.cvtColor(img, cv.COLOR_BGR2GRAY)\n",
    "ret, corners = cv.findChessboardCorners(gray, (7,6), None)\n",
    " \n",
    "if ret is True:\n",
    "    corners2 = cv.cornerSubPix(gray, corners, (7,6), (-1,-1), criteria)\n",
    "    img_pnts = corners2.reshape(-1, 2)\n",
    "    ret, rvec, tvec, _ = cv.solvePnPRansac(objp, img_pnts, mtx, dist)"
   ]
  },
  {
   "cell_type": "code",
   "execution_count": 200,
   "metadata": {},
   "outputs": [],
   "source": [
    "def templateMatching(img_path, template_path, on_black=False):\n",
    "    img_rgb = cv.imread(img_path)\n",
    "    assert img_rgb is not None, \"file could not be read, check with os.path.exists()\"\n",
    "    img_gray = cv.cvtColor(img_rgb, cv.COLOR_BGR2GRAY)\n",
    "    template = cv.imread(template_path, cv.IMREAD_GRAYSCALE)\n",
    "    assert template is not None, \"file could not be read, check with os.path.exists()\"\n",
    "    if on_black:\n",
    "        template[template > 160] = 0\n",
    "    w, h = template.shape[::-1]\n",
    " \n",
    "    res = cv.matchTemplate(img_gray, template, cv.TM_CCOEFF_NORMED)\n",
    "    threshold = 0.6\n",
    "    pos = np.where(res >= threshold)\n",
    "\n",
    "    # for pt in zip(*pos[::-1]):\n",
    "    #     cv.rectangle(img_rgb, pt, (pt[0] + w, pt[1] + h), (0, 0, 255), 2)\n",
    "    # cv.imwrite('found_cross_template.png', img_rgb)\n",
    "    \n",
    "    return [(pt[0] + w//2, pt[1] + h//2) for pt in zip(*pos[::-1])]"
   ]
  },
  {
   "cell_type": "code",
   "execution_count": 201,
   "metadata": {},
   "outputs": [],
   "source": [
    "def find_max_min_coords(pt1, pt2, pt3, pt4):\n",
    "    min_x = min(pt1[0], pt2[0], pt3[0], pt4[0])\n",
    "    max_x = max(pt1[0], pt2[0], pt3[0], pt4[0])\n",
    "    min_y = min(pt1[1], pt2[1], pt3[1], pt4[1])\n",
    "    max_y = max(pt1[1], pt2[1], pt3[1], pt4[1])\n",
    "    return min_x, max_x, min_y, max_y\n",
    "\n",
    "def find_cross_box(cross_loc, box_locs):\n",
    "    for i in range(5):\n",
    "        for j in range(6):\n",
    "            min_x, max_x, min_y, max_y = find_max_min_coords(box_locs[j + 7*i], \n",
    "                                                             box_locs[j + 1 + 7*i], \n",
    "                                                             box_locs[j + 7*(i + 1)], \n",
    "                                                             box_locs[j + 1 + 7*(i + 1)])\n",
    "            if min_x <= cross_loc[0] <= max_x and min_y <= cross_loc[1] <= max_y:\n",
    "                return (j + 0.5, i + 0.5)\n",
    "    return None"
   ]
  },
  {
   "cell_type": "code",
   "execution_count": 202,
   "metadata": {},
   "outputs": [],
   "source": [
    "def flatten(xss):\n",
    "    return [x for xs in xss for x in xs]\n",
    "\n",
    "template_path = \"cross_template_white.png\"\n",
    "cross_locs = []\n",
    "cross_locs.append(templateMatching(img_path, template_path, True))\n",
    "cross_locs.append(templateMatching(img_path, template_path))\n",
    "cross_locs = flatten(cross_locs)\n",
    "\n",
    "img = cv.imread(img_path)\n",
    "cross_boxes = []\n",
    "for pt in cross_locs:\n",
    "    cross_box = find_cross_box(pt, img_pnts)\n",
    "    if cross_box is not None:\n",
    "        cross_boxes.append(cross_box)\n",
    "cross_boxes = set(cross_boxes)"
   ]
  },
  {
   "cell_type": "code",
   "execution_count": 203,
   "metadata": {},
   "outputs": [],
   "source": [
    "import math\n",
    "\n",
    "def get_polygon(sides, radius=1, center=None):\n",
    "    one_segment = math.pi * 2 / sides\n",
    "    points = [\n",
    "        (math.sin(one_segment * i) * radius,\n",
    "         math.cos(one_segment * i) * radius,\n",
    "         0)\n",
    "        for i in range(sides)]\n",
    "    \n",
    "    if center:\n",
    "        points = [[sum(pair) for pair in zip(point, center)]\n",
    "                  for point in points]\n",
    "    return points"
   ]
  },
  {
   "cell_type": "code",
   "execution_count": 204,
   "metadata": {},
   "outputs": [
    {
     "data": {
      "text/plain": [
       "True"
      ]
     },
     "execution_count": 204,
     "metadata": {},
     "output_type": "execute_result"
    }
   ],
   "source": [
    "img = cv.imread(img_path)\n",
    "\n",
    "for box in cross_boxes:\n",
    "    center_point = (box[0], box[1], 0)\n",
    "    points_circle = np.float32(get_polygon(20, 0.4, center_point))\n",
    "    imgpts, _ = cv.projectPoints(points_circle, rvec, tvec, mtx, dist)\n",
    "    cv.fillPoly(img, pts=[np.int32(imgpts).reshape(-1,2)], color=(0, 0, 255))\n",
    "\n",
    "    point_cone = (box[0], box[1], -2)\n",
    "    for i in range(len(points_circle) - 1):\n",
    "        triangle = np.float32([points_circle[i], points_circle[i + 1], point_cone])\n",
    "        imgpts, _ = cv.projectPoints(triangle, rvec, tvec, mtx, dist)\n",
    "        cv.fillPoly(img, pts=[np.int32(imgpts).reshape(-1,2)], color=(0, 0, 255))\n",
    "\n",
    "cv.imwrite(f\"./res/{re.split(\"[//.]\", img_path)[-2]}.png\", img)"
   ]
  }
 ],
 "metadata": {
  "kernelspec": {
   "display_name": ".venv",
   "language": "python",
   "name": "python3"
  },
  "language_info": {
   "codemirror_mode": {
    "name": "ipython",
    "version": 3
   },
   "file_extension": ".py",
   "mimetype": "text/x-python",
   "name": "python",
   "nbconvert_exporter": "python",
   "pygments_lexer": "ipython3",
   "version": "3.12.7"
  }
 },
 "nbformat": 4,
 "nbformat_minor": 2
}
