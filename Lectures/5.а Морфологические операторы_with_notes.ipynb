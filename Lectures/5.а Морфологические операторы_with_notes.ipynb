{
 "cells": [
  {
   "cell_type": "markdown",
   "metadata": {},
   "source": [
    "<center>Заметка 5.а Морфологические операторы</center>\n",
    "<center>курса <q>Введение в цифровую обработку изображений</q>.</center>\n",
    "<center>Шокуров Антон В.</center>\n",
    "<center>shokurov.anton.v@yandex.ru</center>\n",
    "<center>http://машинноезрение.рф</center>\n",
    "<center>Версия 0.095</center>\n",
    "\n",
    "<center>Аннотация</center>\n",
    "<p>\n",
    "...\n",
    "</p>\n",
    "\n",
    "<p>Это предварительная версия! Любые замечания приветствуются.</p>"
   ]
  },
  {
   "cell_type": "markdown",
   "metadata": {},
   "source": [
    "Импортируем необходимые библиотеки:"
   ]
  },
  {
   "cell_type": "code",
   "execution_count": 10,
   "metadata": {},
   "outputs": [],
   "source": [
    "import cv2 as cv\n",
    "import numpy as np\n",
    "import matplotlib.pyplot as plt"
   ]
  },
  {
   "cell_type": "markdown",
   "metadata": {},
   "source": [
    "<h1>Морфологические операторы</h1>"
   ]
  },
  {
   "cell_type": "markdown",
   "metadata": {},
   "source": [
    "<h2>Теория</h2>"
   ]
  },
  {
   "cell_type": "markdown",
   "metadata": {},
   "source": [
    "<h3>Добавление шума соль/перец</h3>"
   ]
  },
  {
   "cell_type": "code",
   "execution_count": 74,
   "metadata": {},
   "outputs": [],
   "source": [
    "img_bin = np.load(\"./img_bin.npy\")    # загрузка изображения без шума"
   ]
  },
  {
   "cell_type": "code",
   "execution_count": 75,
   "metadata": {},
   "outputs": [
    {
     "data": {
      "image/png": "[encoded data removed]",
      "text/plain": [
       "<Figure size 432x288 with 1 Axes>"
      ]
     },
     "metadata": {
      "needs_background": "light"
     },
     "output_type": "display_data"
    }
   ],
   "source": [
    "plt.imshow( img_bin, interpolation = 'none' );    # отрисовка изображения"
   ]
  },
  {
   "cell_type": "markdown",
   "metadata": {},
   "source": [
    "<h2>Траффареты</h2>"
   ]
  },
  {
   "cell_type": "markdown",
   "metadata": {},
   "source": [
    "<h3>Удаляем шум</h3>"
   ]
  },
  {
   "cell_type": "code",
   "execution_count": 76,
   "metadata": {},
   "outputs": [],
   "source": [
    "img_salt = np.load(\"./img_salt.npy\")    # загрузка изображения с шумом"
   ]
  },
  {
   "cell_type": "markdown",
   "metadata": {},
   "source": [
    "Покажем исходное изображение с шумом."
   ]
  },
  {
   "cell_type": "code",
   "execution_count": 77,
   "metadata": {},
   "outputs": [
    {
     "data": {
      "image/png": "[encoded data removed]",
      "text/plain": [
       "<Figure size 432x288 with 1 Axes>"
      ]
     },
     "metadata": {
      "needs_background": "light"
     },
     "output_type": "display_data"
    }
   ],
   "source": [
    "plt.imshow( img_salt, interpolation = 'none' );"
   ]
  },
  {
   "cell_type": "markdown",
   "metadata": {},
   "source": [
    "Вот так выглядит фрагмент изображение с шумом типа соль."
   ]
  },
  {
   "cell_type": "code",
   "execution_count": 78,
   "metadata": {},
   "outputs": [
    {
     "data": {
      "image/png": "[encoded data removed]",
      "text/plain": [
       "<Figure size 432x288 with 1 Axes>"
      ]
     },
     "metadata": {
      "needs_background": "light"
     },
     "output_type": "display_data"
    }
   ],
   "source": [
    "plt.imshow( img_salt[32:89, 22:78] );"
   ]
  },
  {
   "cell_type": "markdown",
   "metadata": {},
   "source": [
    "На изображении выше видно, что шум - это одиночные точки.\\\n",
    "То есть это фрагмент 3х3, где в центре пиксель, соответсвующий значению 1, а вокруг пиксели, соответсвующие значению 0.\\\n",
    "Попробуем избавиться от таких фрагментов."
   ]
  },
  {
   "cell_type": "markdown",
   "metadata": {},
   "source": [
    "<b>Маска единичного шума</b>"
   ]
  },
  {
   "cell_type": "markdown",
   "metadata": {},
   "source": [
    "Создадим маску, **трафарет**. \\\n",
    "Она будет соответствовать куску изображения 3 на 3 с единичной точкой в центре."
   ]
  },
  {
   "cell_type": "code",
   "execution_count": 87,
   "metadata": {},
   "outputs": [],
   "source": [
    "# единичная соль\n",
    "s = np.array(\n",
    "[[0,0,0],\n",
    " [0,1,0],\n",
    " [0,0,0]])"
   ]
  },
  {
   "cell_type": "code",
   "execution_count": 88,
   "metadata": {},
   "outputs": [
    {
     "data": {
      "image/png": "[encoded data removed]",
      "text/plain": [
       "<Figure size 432x288 with 1 Axes>"
      ]
     },
     "metadata": {
      "needs_background": "light"
     },
     "output_type": "display_data"
    }
   ],
   "source": [
    "# Изображение трафарета для единичного шума.\n",
    "plt.imshow( s );"
   ]
  },
  {
   "cell_type": "markdown",
   "metadata": {},
   "source": [
    "<b>Поиск совпадений по маске/трафарету</b>"
   ]
  },
  {
   "cell_type": "markdown",
   "metadata": {},
   "source": [
    "Будем бегать по изображению окном 3 на 3.\n",
    "Искать те фрагменты, которые подходят под бинарный образец в точности.\n",
    "Фактически, будет проверятся на совпадение матрицы 3 на 3 со содержимом  окна."
   ]
  },
  {
   "cell_type": "code",
   "execution_count": 90,
   "metadata": {},
   "outputs": [],
   "source": [
    "# Создадим выходное изображение из нулей размера равного размеру нашего образца с шумом.\n",
    "img_cycle = np.zeros_like(img_salt)"
   ]
  },
  {
   "cell_type": "code",
   "execution_count": 91,
   "metadata": {},
   "outputs": [],
   "source": [
    "# Бегаем по всем пикселям.\n",
    "for i in range( 1, img_salt.shape[0] - 1 ):# По всем рядам.\n",
    "    for j in range( 1, img_salt.shape[1] - 1 ):# По всем колонкам.\n",
    "        v = img_salt[i,j] # Считываем исходное значение.\n",
    "        m = img_salt[i-1:i+2,j-1:j+2] # Считываем значения подматрицы/окна 3 на 3.\n",
    "        if (m == s).all(): # Проверяем что все значения совпадают.\n",
    "            v = 0 # В случае срабатывания трафарета полагаем значение в 0.\n",
    "        img_cycle[i,j] = v # Присваиваем в выходном изображении значение."
   ]
  },
  {
   "cell_type": "markdown",
   "metadata": {},
   "source": [
    "Посмотрим на получившиеся изображение."
   ]
  },
  {
   "cell_type": "code",
   "execution_count": 92,
   "metadata": {},
   "outputs": [
    {
     "data": {
      "image/png": "[encoded data removed]",
      "text/plain": [
       "<Figure size 432x288 with 1 Axes>"
      ]
     },
     "metadata": {
      "needs_background": "light"
     },
     "output_type": "display_data"
    }
   ],
   "source": [
    "plt.imshow( img_cycle, interpolation = 'none' );"
   ]
  },
  {
   "cell_type": "markdown",
   "metadata": {},
   "source": [
    "Видно, что картинка стала почище.\n",
    "Но какой-то шум все-таки остался.\n",
    "Посмотрим поближе фрагмент изображения."
   ]
  },
  {
   "cell_type": "code",
   "execution_count": 93,
   "metadata": {},
   "outputs": [
    {
     "data": {
      "image/png": "[encoded data removed]",
      "text/plain": [
       "<Figure size 432x288 with 1 Axes>"
      ]
     },
     "metadata": {
      "needs_background": "light"
     },
     "output_type": "display_data"
    }
   ],
   "source": [
    "plt.imshow( img_cycle[100:125, 20:45] );"
   ]
  },
  {
   "cell_type": "markdown",
   "metadata": {},
   "source": [
    "Видно, в чем проблема.\n",
    "Не удалился шум состоящий из более чем одной точки.\n",
    "С точки зрения теории вероятности такое может быть."
   ]
  },
  {
   "cell_type": "markdown",
   "metadata": {},
   "source": [
    "Метод на трафареты расширяется на множество трафаретов. Фактически идет проверка со всеми трафаретами. Если будет хотя бы одно совпадение с ними, то значит считаем, что есть совпадание.\n",
    "Конечно это можно рассматривать и как последовательное применение одиночных трафаретов."
   ]
  },
  {
   "cell_type": "markdown",
   "metadata": {},
   "source": [
    "Мы могли бы рассмотреть все возможные отростки. \\\n",
    "То есть сделаем ещё 8 трафаретов 3х3, где центральный пиксель равен 1, \\\n",
    "и ещё один из восьми оставшихся равен 1 (остальные пиксели нулевые)."
   ]
  },
  {
   "cell_type": "code",
   "execution_count": 94,
   "metadata": {},
   "outputs": [],
   "source": [
    "ss = [s.copy()] # Запонимаем трафарет из одной точки.\n",
    "for i in range(3): # Цикл по всем другим 8 точкам\n",
    "    for j in range(3): # 3 на 3 блока.\n",
    "        if i==1 and j==1:\n",
    "            continue\n",
    "        t = s.copy()# Начинает с трафарета с центральной точкой.np.array(\n",
    "            #[[0,0,0],\n",
    "            #[0,1,0],\n",
    "            #[0,0,0]])\n",
    "        t[i,j] = 1 # Добавляем к ней краевую.\n",
    "        ss.append(t)"
   ]
  },
  {
   "cell_type": "code",
   "execution_count": 95,
   "metadata": {},
   "outputs": [
    {
     "data": {
      "text/plain": [
       "9"
      ]
     },
     "execution_count": 95,
     "metadata": {},
     "output_type": "execute_result"
    }
   ],
   "source": [
    "len(ss) # Теперь трафаретов будет 9."
   ]
  },
  {
   "cell_type": "markdown",
   "metadata": {},
   "source": [
    "Пример отростка."
   ]
  },
  {
   "cell_type": "code",
   "execution_count": 96,
   "metadata": {},
   "outputs": [
    {
     "data": {
      "image/png": "[encoded data removed]",
      "text/plain": [
       "<Figure size 432x288 with 1 Axes>"
      ]
     },
     "metadata": {
      "needs_background": "light"
     },
     "output_type": "display_data"
    }
   ],
   "source": [
    "plt.imshow( ss[3] );"
   ]
  },
  {
   "cell_type": "markdown",
   "metadata": {},
   "source": [
    "Создадим функцию на будущее.\\\n",
    "Она бегает по всему изображению и проверяет каждый фрагмент 3х3 на совпадение с каждым из трафаретов из списка. \\\n",
    "В случае совпадения записывает в выходное изображение 0,\n",
    "иначе исходное значение."
   ]
  },
  {
   "cell_type": "code",
   "execution_count": 97,
   "metadata": {},
   "outputs": [],
   "source": [
    "def apply_traff( img_src, img_dst, ss):\n",
    "    for i in range( 1, img_dst.shape[0] - 1 ):\n",
    "        for j in range( 1, img_dst.shape[1] - 1 ):\n",
    "            v = img_src[i,j]\n",
    "            m = img_src[i-1:i+2,j-1:j+2]\n",
    "            for t in ss: # Цикл по всем трафаретам.\n",
    "                if (m == t).all():\n",
    "                    v = 0\n",
    "            img_dst[i,j] = v;"
   ]
  },
  {
   "cell_type": "code",
   "execution_count": 98,
   "metadata": {},
   "outputs": [],
   "source": [
    "img_cycle = np.zeros_like(img_salt) # Можно и не делать."
   ]
  },
  {
   "cell_type": "code",
   "execution_count": 99,
   "metadata": {},
   "outputs": [],
   "source": [
    "apply_traff( img_salt, img_cycle, ss)"
   ]
  },
  {
   "cell_type": "code",
   "execution_count": 100,
   "metadata": {},
   "outputs": [
    {
     "data": {
      "image/png": "[encoded data removed]",
      "text/plain": [
       "<Figure size 432x288 with 1 Axes>"
      ]
     },
     "metadata": {
      "needs_background": "light"
     },
     "output_type": "display_data"
    }
   ],
   "source": [
    "plt.imshow( img_cycle, interpolation = 'none'  );"
   ]
  },
  {
   "cell_type": "markdown",
   "metadata": {},
   "source": [
    "Рассмотрим небольшой фрагмент изображения после удаления шума с помощью наших 9 трафаретов."
   ]
  },
  {
   "cell_type": "code",
   "execution_count": 101,
   "metadata": {},
   "outputs": [
    {
     "data": {
      "image/png": "[encoded data removed]",
      "text/plain": [
       "<Figure size 432x288 with 1 Axes>"
      ]
     },
     "metadata": {
      "needs_background": "light"
     },
     "output_type": "display_data"
    }
   ],
   "source": [
    "plt.imshow( img_cycle[168:193, 38:63] );"
   ]
  },
  {
   "cell_type": "markdown",
   "metadata": {},
   "source": [
    "Сравним этот фрагментом с аналогичным фрагментом оригинального изображения(без шума)"
   ]
  },
  {
   "cell_type": "code",
   "execution_count": 102,
   "metadata": {},
   "outputs": [
    {
     "data": {
      "text/plain": [
       "True"
      ]
     },
     "execution_count": 102,
     "metadata": {},
     "output_type": "execute_result"
    }
   ],
   "source": [
    "(img_cycle[168:193, 38:63] == img_bin[168:193, 38:63]).all()"
   ]
  },
  {
   "cell_type": "markdown",
   "metadata": {},
   "source": [
    "Замечу, что в данном случае фрагмент восстановился полностью.\\\n",
    "Но не для всех фрагментах это так."
   ]
  },
  {
   "cell_type": "markdown",
   "metadata": {},
   "source": [
    "Рассмотрим другой фрагмент"
   ]
  },
  {
   "cell_type": "code",
   "execution_count": 104,
   "metadata": {},
   "outputs": [
    {
     "data": {
      "image/png": "[encoded data removed]",
      "text/plain": [
       "<Figure size 432x288 with 1 Axes>"
      ]
     },
     "metadata": {
      "needs_background": "light"
     },
     "output_type": "display_data"
    }
   ],
   "source": [
    "plt.imshow( img_cycle[42:79, 32:68] );"
   ]
  },
  {
   "cell_type": "markdown",
   "metadata": {},
   "source": [
    "Также сравним этот фрагментом с аналогичным фрагментом оригинального изображения"
   ]
  },
  {
   "cell_type": "code",
   "execution_count": 105,
   "metadata": {},
   "outputs": [
    {
     "data": {
      "text/plain": [
       "False"
      ]
     },
     "execution_count": 105,
     "metadata": {},
     "output_type": "execute_result"
    }
   ],
   "source": [
    "(img_cycle[42:79, 32:68] == img_bin[42:79, 32:68]).all()"
   ]
  },
  {
   "cell_type": "markdown",
   "metadata": {},
   "source": [
    "Посмотрим где ошибка."
   ]
  },
  {
   "cell_type": "code",
   "execution_count": 106,
   "metadata": {},
   "outputs": [
    {
     "data": {
      "image/png": "[encoded data removed]",
      "text/plain": [
       "<Figure size 432x288 with 1 Axes>"
      ]
     },
     "metadata": {
      "needs_background": "light"
     },
     "output_type": "display_data"
    }
   ],
   "source": [
    "plt.imshow( img_cycle[42:79, 32:68] + img_bin[42:79, 32:68] );\n",
    "# Там где совпадения нет, будет значение 1."
   ]
  },
  {
   "cell_type": "markdown",
   "metadata": {},
   "source": [
    "Данный шум был изначально приклеелен к кругу и не может быть убран нашими трафаретами."
   ]
  },
  {
   "cell_type": "markdown",
   "metadata": {},
   "source": [
    "<b>Оставшийся шум</b>"
   ]
  },
  {
   "cell_type": "markdown",
   "metadata": {},
   "source": [
    "Посмотрим, что шум все же остался."
   ]
  },
  {
   "cell_type": "code",
   "execution_count": 108,
   "metadata": {},
   "outputs": [
    {
     "data": {
      "image/png": "[encoded data removed]",
      "text/plain": [
       "<Figure size 432x288 with 1 Axes>"
      ]
     },
     "metadata": {
      "needs_background": "light"
     },
     "output_type": "display_data"
    }
   ],
   "source": [
    "plt.imshow( img_cycle[165:170, 81:86] );"
   ]
  },
  {
   "cell_type": "markdown",
   "metadata": {},
   "source": [
    "Он совпадает с маской... применим наш метод ещё раз"
   ]
  },
  {
   "cell_type": "markdown",
   "metadata": {},
   "source": [
    "<b>Повторное применение маски</b>"
   ]
  },
  {
   "cell_type": "code",
   "execution_count": 109,
   "metadata": {},
   "outputs": [],
   "source": [
    "img_cycle2 = np.zeros_like(img_cycle)"
   ]
  },
  {
   "cell_type": "code",
   "execution_count": 110,
   "metadata": {},
   "outputs": [],
   "source": [
    "apply_traff( img_cycle, img_cycle2, ss)"
   ]
  },
  {
   "cell_type": "code",
   "execution_count": 111,
   "metadata": {},
   "outputs": [
    {
     "data": {
      "image/png": "[encoded data removed]",
      "text/plain": [
       "<Figure size 432x288 with 1 Axes>"
      ]
     },
     "metadata": {
      "needs_background": "light"
     },
     "output_type": "display_data"
    }
   ],
   "source": [
    "plt.imshow( img_cycle2, interpolation = 'none' );"
   ]
  },
  {
   "cell_type": "markdown",
   "metadata": {},
   "source": [
    "И более близко:"
   ]
  },
  {
   "cell_type": "code",
   "execution_count": 49,
   "metadata": {},
   "outputs": [
    {
     "data": {
      "image/png": "[encoded data removed]",
      "text/plain": [
       "<Figure size 432x288 with 1 Axes>"
      ]
     },
     "metadata": {
      "needs_background": "light"
     },
     "output_type": "display_data"
    }
   ],
   "source": [
    "plt.imshow( img_cycle2[165:170, 81:86] );"
   ]
  },
  {
   "cell_type": "markdown",
   "metadata": {},
   "source": [
    "Да, все чисто теперь."
   ]
  },
  {
   "cell_type": "markdown",
   "metadata": {},
   "source": [
    "Итого. Трафарет можно и нужно иногда применять больше одного раза к изображению.\n",
    "Однократное применение может не достичь нужной цели."
   ]
  },
  {
   "cell_type": "markdown",
   "metadata": {},
   "source": [
    "<b>Расмотрение ещё случаев</b>"
   ]
  },
  {
   "cell_type": "markdown",
   "metadata": {},
   "source": [
    "А может потребоваться рассмотрение большего количества случаев."
   ]
  },
  {
   "cell_type": "markdown",
   "metadata": {},
   "source": [
    "Рассмотрим на шум более детально наше изначальное изображение с шумом."
   ]
  },
  {
   "cell_type": "code",
   "execution_count": 113,
   "metadata": {},
   "outputs": [
    {
     "data": {
      "image/png": "[encoded data removed]",
      "text/plain": [
       "<Figure size 432x288 with 1 Axes>"
      ]
     },
     "metadata": {
      "needs_background": "light"
     },
     "output_type": "display_data"
    }
   ],
   "source": [
    "plt.imshow( img_salt[165:170, 81:86] );"
   ]
  },
  {
   "cell_type": "markdown",
   "metadata": {},
   "source": [
    "Можно и этот случай (и подобные) добавить.\n",
    "Сделаем ещё трафаретов таких, что центральный пиксель равен 1 и ещё два пикселя по краям равны 1. "
   ]
  },
  {
   "cell_type": "code",
   "execution_count": 114,
   "metadata": {},
   "outputs": [],
   "source": [
    "l = len(ss)\n",
    "for i in range( l-1 ): # Последний элемент это просто точка.\n",
    "    for j in range( i, l-1):\n",
    "        z = ss[i] + ss[j] # Берем все их комбинации.\n",
    "        z[1,1] = 1 # Восстанавливаем ценральный пиксель в единицу.\n",
    "        ss.append( z ) "
   ]
  },
  {
   "cell_type": "code",
   "execution_count": 115,
   "metadata": {},
   "outputs": [
    {
     "data": {
      "text/plain": [
       "45"
      ]
     },
     "execution_count": 115,
     "metadata": {},
     "output_type": "execute_result"
    }
   ],
   "source": [
    "len(ss)"
   ]
  },
  {
   "cell_type": "markdown",
   "metadata": {},
   "source": [
    "Один из новых трафаретов выглядит так:"
   ]
  },
  {
   "cell_type": "code",
   "execution_count": 117,
   "metadata": {},
   "outputs": [
    {
     "data": {
      "image/png": "[encoded data removed]",
      "text/plain": [
       "<Figure size 432x288 with 1 Axes>"
      ]
     },
     "metadata": {
      "needs_background": "light"
     },
     "output_type": "display_data"
    }
   ],
   "source": [
    "plt.imshow( ss[22] );"
   ]
  },
  {
   "cell_type": "markdown",
   "metadata": {},
   "source": [
    "Применим теперь к изначальному изображению с шумом все имеющиеся трафареты"
   ]
  },
  {
   "cell_type": "code",
   "execution_count": 119,
   "metadata": {},
   "outputs": [],
   "source": [
    "apply_traff( img_salt, img_cycle, ss)"
   ]
  },
  {
   "cell_type": "markdown",
   "metadata": {},
   "source": [
    "Вроде весь шум убрали."
   ]
  },
  {
   "cell_type": "code",
   "execution_count": 120,
   "metadata": {},
   "outputs": [
    {
     "data": {
      "image/png": "[encoded data removed]",
      "text/plain": [
       "<Figure size 432x288 with 1 Axes>"
      ]
     },
     "metadata": {
      "needs_background": "light"
     },
     "output_type": "display_data"
    }
   ],
   "source": [
    "plt.imshow( img_cycle, interpolation = 'none'  );"
   ]
  },
  {
   "cell_type": "markdown",
   "metadata": {},
   "source": [
    "Можно видеть, что с теми фрагментами, с которыми 9 старых траффаретов не справлялись, новые отлично справляются "
   ]
  },
  {
   "cell_type": "code",
   "execution_count": 122,
   "metadata": {},
   "outputs": [
    {
     "data": {
      "image/png": "[encoded data removed]",
      "text/plain": [
       "<Figure size 432x288 with 1 Axes>"
      ]
     },
     "metadata": {
      "needs_background": "light"
     },
     "output_type": "display_data"
    }
   ],
   "source": [
    "plt.imshow( img_cycle[165:170, 81:86] );"
   ]
  },
  {
   "cell_type": "markdown",
   "metadata": {},
   "source": [
    "<h3>Заусенцы</h3>"
   ]
  },
  {
   "cell_type": "markdown",
   "metadata": {},
   "source": [
    "Можно заметить, что на изображении есть **заусенцы**.\\\n",
    "Это шум, приклеившийся к изначальным фигурам."
   ]
  },
  {
   "cell_type": "code",
   "execution_count": 137,
   "metadata": {},
   "outputs": [
    {
     "data": {
      "image/png": "[encoded data removed]",
      "text/plain": [
       "<Figure size 432x288 with 1 Axes>"
      ]
     },
     "metadata": {
      "needs_background": "light"
     },
     "output_type": "display_data"
    }
   ],
   "source": [
    "plt.imshow( img_cycle, interpolation = 'none'  );"
   ]
  },
  {
   "cell_type": "markdown",
   "metadata": {},
   "source": [
    "Лучше всего заусенцы видны на прямоугольнике"
   ]
  },
  {
   "cell_type": "code",
   "execution_count": 136,
   "metadata": {},
   "outputs": [
    {
     "data": {
      "image/png": "[encoded data removed]",
      "text/plain": [
       "<Figure size 432x288 with 1 Axes>"
      ]
     },
     "metadata": {
      "needs_background": "light"
     },
     "output_type": "display_data"
    }
   ],
   "source": [
    "plt.imshow( img_cycle[24:36, 102:113] );"
   ]
  },
  {
   "cell_type": "markdown",
   "metadata": {},
   "source": [
    "Нужен специальный трафарет."
   ]
  },
  {
   "cell_type": "code",
   "execution_count": 129,
   "metadata": {},
   "outputs": [],
   "source": [
    "заусенец = np.array(\n",
    "[[0,0,0],\n",
    " [0,1,0],\n",
    " [1,1,1]])"
   ]
  },
  {
   "cell_type": "code",
   "execution_count": 130,
   "metadata": {},
   "outputs": [
    {
     "data": {
      "image/png": "[encoded data removed]",
      "text/plain": [
       "<Figure size 432x288 with 1 Axes>"
      ]
     },
     "metadata": {
      "needs_background": "light"
     },
     "output_type": "display_data"
    }
   ],
   "source": [
    "plt.imshow(заусенец);"
   ]
  },
  {
   "cell_type": "markdown",
   "metadata": {},
   "source": [
    "Добавим новый трафарет к имеющимся и применим к изображению с шумом"
   ]
  },
  {
   "cell_type": "code",
   "execution_count": 131,
   "metadata": {},
   "outputs": [],
   "source": [
    "apply_traff( img_salt, img_cycle, ss + [заусенец])"
   ]
  },
  {
   "cell_type": "code",
   "execution_count": 132,
   "metadata": {},
   "outputs": [
    {
     "data": {
      "image/png": "[encoded data removed]",
      "text/plain": [
       "<Figure size 432x288 with 1 Axes>"
      ]
     },
     "metadata": {
      "needs_background": "light"
     },
     "output_type": "display_data"
    }
   ],
   "source": [
    "plt.imshow( img_cycle[24:36, 102:113] );"
   ]
  },
  {
   "cell_type": "markdown",
   "metadata": {},
   "source": [
    "Как видно, заусенец убрали."
   ]
  },
  {
   "cell_type": "markdown",
   "metadata": {},
   "source": [
    "Картинка в целом стала лучше, но теперь испортились круги"
   ]
  },
  {
   "cell_type": "code",
   "execution_count": 139,
   "metadata": {},
   "outputs": [
    {
     "data": {
      "image/png": "[encoded data removed]",
      "text/plain": [
       "<Figure size 432x288 with 1 Axes>"
      ]
     },
     "metadata": {
      "needs_background": "light"
     },
     "output_type": "display_data"
    }
   ],
   "source": [
    "plt.imshow( img_cycle[42:79, 32:68]);"
   ]
  },
  {
   "cell_type": "markdown",
   "metadata": {},
   "source": [
    "Таких трафаретов известно много."
   ]
  },
  {
   "cell_type": "markdown",
   "metadata": {},
   "source": [
    "<h3>Логические правила</h3>"
   ]
  },
  {
   "cell_type": "markdown",
   "metadata": {},
   "source": [
    "Так задаются трафареты для разных случаев.\n",
    "Их может быть много.\n",
    "Один из способов их сокартить это\n",
    "задать логическое правило над пикселями окрестности."
   ]
  },
  {
   "cell_type": "markdown",
   "metadata": {},
   "source": [
    "Например, сделаем логическое правило, которое делает то же, что делало применение 45 трафаретов выше (не считая тех, что удаляют заусенцы)\\\n",
    "1) Если центральный пискель 0, то оставляем как есть.\\\n",
    "2) Если центральный пиксель равен 1, а вокург него из 8 не больше двух пекселей равны 1, то сделаем его равным 0."
   ]
  },
  {
   "cell_type": "code",
   "execution_count": 140,
   "metadata": {},
   "outputs": [],
   "source": [
    "img_cycle3 = np.zeros_like(img_bin)"
   ]
  },
  {
   "cell_type": "code",
   "execution_count": 142,
   "metadata": {},
   "outputs": [],
   "source": [
    "for i in range( 1, img_salt.shape[0] - 1 ):\n",
    "    for j in range( 1, img_salt.shape[1] - 1 ):\n",
    "        v = img_salt[i,j]\n",
    "        if v==0:\n",
    "            continue\n",
    "        m = img_bin[i-1:i+2,j-1:j+2]\n",
    "        cnt = np.count_nonzero( m )\n",
    "        cnt -= 1 # Центральный\n",
    "        v = 0\n",
    "        if cnt>=3:\n",
    "            v = 1;\n",
    "        img_cycle3[i,j] = v;"
   ]
  },
  {
   "cell_type": "code",
   "execution_count": 143,
   "metadata": {},
   "outputs": [
    {
     "data": {
      "image/png": "[encoded data removed]",
      "text/plain": [
       "<Figure size 432x288 with 1 Axes>"
      ]
     },
     "metadata": {
      "needs_background": "light"
     },
     "output_type": "display_data"
    }
   ],
   "source": [
    "plt.imshow( img_cycle3, interpolation = 'none'  );"
   ]
  },
  {
   "cell_type": "markdown",
   "metadata": {},
   "source": [
    "Можно заметить, что использование данного логического правила занимает гораздо меньше времени, чем применение 45 трафаретов."
   ]
  },
  {
   "cell_type": "markdown",
   "metadata": {},
   "source": [
    "<h2>Операторы</h2>"
   ]
  },
  {
   "cell_type": "markdown",
   "metadata": {},
   "source": [
    "Фактически точное совпадение по трафарету разбивается на две операции: разъедание и наращивание.\n",
    "Разъедание может только пиксель убрать на изображение,\n",
    "а наращивание -- только нарастить."
   ]
  },
  {
   "cell_type": "markdown",
   "metadata": {},
   "source": [
    "<b>Разъедание</b>"
   ]
  },
  {
   "cell_type": "markdown",
   "metadata": {},
   "source": [
    "В случае бинарных изображений:\\\n",
    "для всех пикселей трафарета равных 1 смотрим, все ли пиксели им соответсвующие на изображении равны 1.\\\n",
    "Если да, то значит оставляем пиксель, иначе делаем его равным 0.\\\n",
    "Напомню, что рассматриваем трафарет только для истинных пикселей (для якоря)."
   ]
  },
  {
   "cell_type": "markdown",
   "metadata": {},
   "source": [
    "Рассмотрим такое изображение"
   ]
  },
  {
   "cell_type": "code",
   "execution_count": 146,
   "metadata": {},
   "outputs": [
    {
     "data": {
      "text/plain": [
       "(3, 6)"
      ]
     },
     "execution_count": 146,
     "metadata": {},
     "output_type": "execute_result"
    }
   ],
   "source": [
    "plusses = np.array(\n",
    "[\n",
    "    [0, 1, 0, 0, 1, 1],\n",
    "    [1, 1, 1, 1, 1, 1],\n",
    "    [0, 1, 0, 0, 1, 0]\n",
    "]\n",
    ")\n",
    "plusses.shape"
   ]
  },
  {
   "cell_type": "code",
   "execution_count": 147,
   "metadata": {},
   "outputs": [
    {
     "data": {
      "image/png": "[encoded data removed]",
      "text/plain": [
       "<Figure size 432x288 with 1 Axes>"
      ]
     },
     "metadata": {
      "needs_background": "light"
     },
     "output_type": "display_data"
    }
   ],
   "source": [
    "plt.imshow( plusses );"
   ]
  },
  {
   "cell_type": "markdown",
   "metadata": {},
   "source": [
    "Разъедать будем плюсом."
   ]
  },
  {
   "cell_type": "code",
   "execution_count": 148,
   "metadata": {},
   "outputs": [],
   "source": [
    "plus = np.array(\n",
    "[\n",
    "    [0, 1, 0,],\n",
    "    [1, 1, 1 ],\n",
    "    [0, 1, 0 ]\n",
    "]\n",
    ")"
   ]
  },
  {
   "cell_type": "code",
   "execution_count": 149,
   "metadata": {},
   "outputs": [
    {
     "data": {
      "image/png": "[encoded data removed]",
      "text/plain": [
       "<Figure size 432x288 with 1 Axes>"
      ]
     },
     "metadata": {
      "needs_background": "light"
     },
     "output_type": "display_data"
    }
   ],
   "source": [
    "plt.imshow( plus );"
   ]
  },
  {
   "cell_type": "markdown",
   "metadata": {},
   "source": [
    "Посмотрим, как будет двигаться данный трафарет по данному изображению"
   ]
  },
  {
   "cell_type": "code",
   "execution_count": 151,
   "metadata": {},
   "outputs": [
    {
     "data": {
      "image/png": "[encoded data removed]",
      "text/plain": [
       "<Figure size 720x720 with 4 Axes>"
      ]
     },
     "metadata": {
      "needs_background": "light"
     },
     "output_type": "display_data"
    }
   ],
   "source": [
    "eps = 0.03\n",
    "\n",
    "fig, axs = plt.subplots(4)\n",
    "fig.set_size_inches(10,10)\n",
    "for i in range(4):\n",
    "    axs[i].imshow( plusses )\n",
    "    axs[i].plot( [-0.5+eps+i, 2.5-eps+i, 2.5-eps+i, -0.5+eps+i, -0.5+eps+i], [-0.5+eps, -0.5+eps, 2.5-eps, 2.5-eps, -0.5+eps], 'r.-', linewidth=4 )"
   ]
  },
  {
   "cell_type": "code",
   "execution_count": 152,
   "metadata": {},
   "outputs": [],
   "source": [
    "fplus = np.zeros_like( plusses )"
   ]
  },
  {
   "cell_type": "code",
   "execution_count": 153,
   "metadata": {},
   "outputs": [],
   "source": [
    "for i in range( 1, plusses.shape[0] - 1 ):\n",
    "    for j in range( 1, plusses.shape[1] - 1 ):\n",
    "        v = plusses[i,j]\n",
    "        if v==0:\n",
    "            continue\n",
    "        m = plusses[i-1:i+2,j-1:j+2]\n",
    "        m = m*plus\n",
    "        fplus[i,j] = np.sum(plus) == np.sum(m)"
   ]
  },
  {
   "cell_type": "code",
   "execution_count": 154,
   "metadata": {},
   "outputs": [
    {
     "data": {
      "image/png": "[encoded data removed]",
      "text/plain": [
       "<Figure size 432x288 with 1 Axes>"
      ]
     },
     "metadata": {
      "needs_background": "light"
     },
     "output_type": "display_data"
    }
   ],
   "source": [
    "plt.imshow( fplus ); # Нашли два случая."
   ]
  },
  {
   "cell_type": "code",
   "execution_count": 155,
   "metadata": {},
   "outputs": [],
   "source": [
    "oplus = np.zeros_like( plusses )"
   ]
  },
  {
   "cell_type": "code",
   "execution_count": 156,
   "metadata": {},
   "outputs": [],
   "source": [
    "apply_traff( plusses, oplus, [plus])"
   ]
  },
  {
   "cell_type": "markdown",
   "metadata": {},
   "source": [
    "До этого введенный трафарет искал только полное совпадение. Тогда он убирал точку (а не ставил)."
   ]
  },
  {
   "cell_type": "code",
   "execution_count": 157,
   "metadata": {},
   "outputs": [
    {
     "data": {
      "image/png": "[encoded data removed]",
      "text/plain": [
       "<Figure size 432x288 with 1 Axes>"
      ]
     },
     "metadata": {
      "needs_background": "light"
     },
     "output_type": "display_data"
    }
   ],
   "source": [
    "plt.imshow( oplus );"
   ]
  },
  {
   "cell_type": "code",
   "execution_count": 158,
   "metadata": {},
   "outputs": [
    {
     "data": {
      "text/plain": [
       "array([[False, False,  True],\n",
       "       [ True,  True,  True],\n",
       "       [False, False,  True]])"
      ]
     },
     "execution_count": 158,
     "metadata": {},
     "output_type": "execute_result"
    }
   ],
   "source": [
    "plusses[:,1:4] == plus "
   ]
  },
  {
   "cell_type": "code",
   "execution_count": 159,
   "metadata": {},
   "outputs": [
    {
     "data": {
      "text/plain": [
       "False"
      ]
     },
     "execution_count": 159,
     "metadata": {},
     "output_type": "execute_result"
    }
   ],
   "source": [
    "(plusses[:,1:4]==plus).all()"
   ]
  },
  {
   "cell_type": "markdown",
   "metadata": {},
   "source": [
    "<b>Разделение компонент</b>"
   ]
  },
  {
   "cell_type": "markdown",
   "metadata": {},
   "source": [
    "В данном случае мы будем фактически отрезать тонкий слой от всех границ."
   ]
  },
  {
   "cell_type": "markdown",
   "metadata": {},
   "source": [
    "Исходные компоненты слиплись.\n",
    "Их нужно отделить друг от друга."
   ]
  },
  {
   "cell_type": "code",
   "execution_count": 193,
   "metadata": {},
   "outputs": [
    {
     "data": {
      "image/png": "[encoded data removed]",
      "text/plain": [
       "<Figure size 432x288 with 1 Axes>"
      ]
     },
     "metadata": {
      "needs_background": "light"
     },
     "output_type": "display_data"
    }
   ],
   "source": [
    "img_touch = np.zeros((100,100), 'uint8')\n",
    "cv.circle( img_touch, (30, 28), 25, 1, -1);\n",
    "cv.circle( img_touch, (50, 70), 22, 1, -1);\n",
    "cv.circle( img_touch, (69, 38), 16, 1, -1);\n",
    "plt.imshow( img_touch, interpolation = 'none' );"
   ]
  },
  {
   "cell_type": "code",
   "execution_count": 210,
   "metadata": {},
   "outputs": [],
   "source": [
    "img_ntouch = np.zeros_like( img_touch )"
   ]
  },
  {
   "cell_type": "code",
   "execution_count": 211,
   "metadata": {},
   "outputs": [],
   "source": [
    "for i in range( 1, img_touch.shape[0] - 1 ):\n",
    "    for j in range( 1, img_touch.shape[1] - 1 ):\n",
    "        v = img_touch[i,j]\n",
    "        if v==0:\n",
    "            continue\n",
    "        m = img_touch[i-1:i+2,j-1:j+2]\n",
    "        img_ntouch[i,j] = 9 == np.sum(m);"
   ]
  },
  {
   "cell_type": "code",
   "execution_count": 212,
   "metadata": {},
   "outputs": [
    {
     "data": {
      "image/png": "[encoded data removed]",
      "text/plain": [
       "<Figure size 432x288 with 1 Axes>"
      ]
     },
     "metadata": {
      "needs_background": "light"
     },
     "output_type": "display_data"
    }
   ],
   "source": [
    "plt.imshow( img_ntouch, interpolation = 'none' );"
   ]
  },
  {
   "cell_type": "code",
   "execution_count": 213,
   "metadata": {},
   "outputs": [],
   "source": [
    "img_touch = img_ntouch.copy() # Делаем копию изображения.\n",
    "# Нужно выполнять предыдущие три блока пока не разделяться."
   ]
  },
  {
   "cell_type": "markdown",
   "metadata": {},
   "source": [
    "Сделаем то же самое только теперь с окном 9х9"
   ]
  },
  {
   "cell_type": "code",
   "execution_count": 214,
   "metadata": {},
   "outputs": [
    {
     "data": {
      "image/png": "[encoded data removed]",
      "text/plain": [
       "<Figure size 432x288 with 1 Axes>"
      ]
     },
     "metadata": {
      "needs_background": "light"
     },
     "output_type": "display_data"
    }
   ],
   "source": [
    "img_touch = np.zeros((100,100), 'uint8')\n",
    "cv.circle( img_touch, (30, 28), 25, 1, -1);\n",
    "cv.circle( img_touch, (50, 70), 22, 1, -1);\n",
    "cv.circle( img_touch, (69, 38), 16, 1, -1);\n",
    "plt.imshow( img_touch, interpolation = 'none' );"
   ]
  },
  {
   "cell_type": "code",
   "execution_count": 215,
   "metadata": {},
   "outputs": [],
   "source": [
    "for i in range( 4, img_touch.shape[0] - 4 ):\n",
    "    for j in range( 4, img_touch.shape[1] - 4 ):\n",
    "        v = img_touch[i,j]\n",
    "        if v==0:\n",
    "            continue\n",
    "        m = img_touch[i-4:i+5,j-4:j+5]\n",
    "        img_ntouch[i,j] = 81 == np.sum(m);"
   ]
  },
  {
   "cell_type": "code",
   "execution_count": 216,
   "metadata": {},
   "outputs": [
    {
     "data": {
      "image/png": "[encoded data removed]",
      "text/plain": [
       "<Figure size 432x288 with 1 Axes>"
      ]
     },
     "metadata": {
      "needs_background": "light"
     },
     "output_type": "display_data"
    }
   ],
   "source": [
    "plt.imshow( img_ntouch, interpolation = 'none' );"
   ]
  },
  {
   "cell_type": "code",
   "execution_count": null,
   "metadata": {},
   "outputs": [],
   "source": [
    "Упраж.\n",
    "увеличтье размер трафарета дальше."
   ]
  },
  {
   "cell_type": "markdown",
   "metadata": {},
   "source": [
    "<b>Наращивание</b>"
   ]
  },
  {
   "cell_type": "markdown",
   "metadata": {},
   "source": [
    "По аналогии."
   ]
  }
 ],
 "metadata": {
  "kernelspec": {
   "display_name": "Python 3",
   "language": "python",
   "name": "python3"
  },
  "language_info": {
   "codemirror_mode": {
    "name": "ipython",
    "version": 3
   },
   "file_extension": ".py",
   "mimetype": "text/x-python",
   "name": "python",
   "nbconvert_exporter": "python",
   "pygments_lexer": "ipython3",
   "version": "3.8.8"
  }
 },
 "nbformat": 4,
 "nbformat_minor": 4
}
