{
 "cells": [
  {
   "cell_type": "markdown",
   "id": "43ac7543-7e5e-4464-98e0-05a10e695f91",
   "metadata": {},
   "source": [
    "<center>Заметка 9.а Метод RANSAC</center>\n",
    "<center>курса <q>Введение в цифровую обработку изображений</q>.</center>\n",
    "<center>Шокуров Антон В.</center>\n",
    "<center>shokurov.anton.v@yandex.ru</center>\n",
    "<center>http://машинноезрение.рф</center>\n",
    "<center>Версия 0.09</center>\n",
    "\n",
    "<center>Аннотация</center>\n",
    "<p>\n",
    "...\n",
    "</p>\n",
    "\n",
    "<p>Это предварительная версия! Любые замечания приветствуются.</p>"
   ]
  },
  {
   "cell_type": "code",
   "execution_count": 14,
   "id": "1a344470-df39-49ac-b1a0-a48227f438f5",
   "metadata": {
    "scrolled": true
   },
   "outputs": [],
   "source": [
    "import numpy as np\n",
    "import matplotlib.pyplot as plt\n",
    "import mpl_toolkits.mplot3d as plot3d\n",
    "import cv2 as cv\n",
    "from matplotlib import cm\n",
    "from matplotlib.ticker import MaxNLocator\n",
    "import scipy.stats as stats\n",
    "import scipy.spatial.transform as transform"
   ]
  },
  {
   "cell_type": "code",
   "execution_count": null,
   "id": "5bce9986",
   "metadata": {},
   "outputs": [],
   "source": [
    "# Для точной повторяемости некоторых из результатов.\n",
    "# для совместимости: np.random.seed(2021)\n",
    "rng = np.random.default_rng(2021)"
   ]
  },
  {
   "cell_type": "code",
   "execution_count": 16,
   "id": "e7d93825-ed0f-474f-a922-ef54e2782da6",
   "metadata": {},
   "outputs": [
    {
     "data": {
      "text/plain": [
       "-0.06886119500819549"
      ]
     },
     "execution_count": 16,
     "metadata": {},
     "output_type": "execute_result"
    }
   ],
   "source": [
    "#rng?\n",
    "rng.standard_normal()\n",
    "# Должно быть -0.06886119500819549"
   ]
  },
  {
   "cell_type": "markdown",
   "id": "95385901-9878-4001-af20-116bc215ca02",
   "metadata": {},
   "source": [
    "<h2>RANSAC (RANdom SAmple Consensus)</h2>"
   ]
  },
  {
   "cell_type": "markdown",
   "id": "472c0fbe",
   "metadata": {},
   "source": [
    "<span style=\"color:green\"> Для перехода от одной камеры к другой используется\n",
    "матрица проективной геометрии. Но система у нас неидеальная, так как решаем прикладную задачу. Во входных данных могут быть ошибки, которые обычно носят характер шума. Помимо шума бывают ошибки разметки. Алгоритм, сопоставляющий точки на изображениях (см. предыдущую лекцию), может сдать сбой. При этом могут появиться явные выбросы. \n",
    "    Скажем, что наша\n",
    "модель задается конечным набором точек (размеченные точки).\n",
    "Будем многократно делать следующее: случайно выбирать 5 точек, строить модель, проходить по оставшимся точкам и проверять сколько из них правильные (правильные переходы) согласно данной вычисленной модели. \n",
    "Выводы теории вероятностей гарантируют, что на некоторой итерации с вероятностью выше 95% правильная модель найдется.\n",
    "</span>"
   ]
  },
  {
   "cell_type": "markdown",
   "id": "a4e01c94",
   "metadata": {},
   "source": [
    "<span style=\"color:green\">\n",
    "    Рассмотрим конкретные примеры.\n",
    "</span>"
   ]
  },
  {
   "cell_type": "markdown",
   "id": "d2fdc3a9-a202-4387-8b16-8cc3c53201a0",
   "metadata": {},
   "source": [
    "<h3>Поиск прямой/отрезка</h3>"
   ]
  },
  {
   "cell_type": "markdown",
   "id": "0a23c978",
   "metadata": {},
   "source": [
    "<span style=\"color:green\"> \n",
    "     Как найти 2 прямые, проходящие через заданные\n",
    "случайные точки? Регрессия не подходит.\n",
    "    Используем подход RANSAC.\n",
    "</span>"
   ]
  },
  {
   "cell_type": "markdown",
   "id": "3ec6fc63-c6a3-4c60-a420-7dbb470efdff",
   "metadata": {},
   "source": [
    "<b>Построим точки принадлежащие отрезку</b>"
   ]
  },
  {
   "cell_type": "markdown",
   "id": "0e59137c-880f-45e7-890c-6e7dd4b5b4e8",
   "metadata": {},
   "source": [
    "Случайно, равномерно, выберем точки на отрезке 0 до 10."
   ]
  },
  {
   "cell_type": "code",
   "execution_count": 17,
   "id": "18418be2-493d-4193-ab9b-e29062207988",
   "metadata": {},
   "outputs": [],
   "source": [
    "r1 = rng.random(50)*10 # np.random.rand(50)\n",
    "r2 = rng.random(50)*10 # np.random.rand(50)"
   ]
  },
  {
   "cell_type": "markdown",
   "id": "2a88f8a8-ed37-48a6-b41a-f09d9eda554c",
   "metadata": {},
   "source": [
    "Вторая координата этих точек пусть пока будет равна 0."
   ]
  },
  {
   "cell_type": "code",
   "execution_count": 18,
   "id": "987fcbaf-a472-42a9-a760-f80594da7e3c",
   "metadata": {},
   "outputs": [],
   "source": [
    "l1 = np.zeros( 50 )\n",
    "l2 = np.zeros( 50 )"
   ]
  },
  {
   "cell_type": "code",
   "execution_count": 20,
   "id": "6301d319-c4c0-4198-b8a5-853236de8063",
   "metadata": {},
   "outputs": [
    {
     "data": {
      "text/plain": [
       "((50,), (50,))"
      ]
     },
     "execution_count": 20,
     "metadata": {},
     "output_type": "execute_result"
    }
   ],
   "source": [
    "l1.shape, r1.shape"
   ]
  },
  {
   "cell_type": "markdown",
   "id": "2628f50c-5d07-40f4-9fef-40020367040f",
   "metadata": {},
   "source": [
    "Совместим порознь созданные массивы в один, из двумерных точек."
   ]
  },
  {
   "cell_type": "code",
   "execution_count": 21,
   "id": "c0497137",
   "metadata": {},
   "outputs": [],
   "source": [
    "l1 = np.dstack( (l1, r1) )[0];\n",
    "l2 = np.dstack( (r2, l2) )[0]; # Внимание, тут другой порядок!"
   ]
  },
  {
   "cell_type": "code",
   "execution_count": 22,
   "id": "0de0b874-cf46-4945-8f68-29776136fe17",
   "metadata": {},
   "outputs": [
    {
     "data": {
      "text/plain": [
       "array([0., 0., 0., 0., 0., 0., 0., 0., 0., 0., 0., 0., 0., 0., 0., 0., 0.,\n",
       "       0., 0., 0., 0., 0., 0., 0., 0., 0., 0., 0., 0., 0., 0., 0., 0., 0.,\n",
       "       0., 0., 0., 0., 0., 0., 0., 0., 0., 0., 0., 0., 0., 0., 0., 0.])"
      ]
     },
     "execution_count": 22,
     "metadata": {},
     "output_type": "execute_result"
    }
   ],
   "source": [
    "l1[:,0]"
   ]
  },
  {
   "cell_type": "code",
   "execution_count": 23,
   "id": "d39aab81-f5e2-43a4-b4eb-618e0ea1dc52",
   "metadata": {},
   "outputs": [
    {
     "data": {
      "text/plain": [
       "array([9.41381866, 5.92463035, 3.18841713, 6.26073838, 0.35513868,\n",
       "       2.52126959, 4.8501366 , 3.01266885, 7.21950943, 9.29890659,\n",
       "       9.08235809, 0.84958562, 2.70366174, 9.71681756, 2.60150065,\n",
       "       8.00520309, 7.98278648, 6.42569202, 6.68068645, 2.35213149,\n",
       "       0.21905757, 1.29611448, 1.22984062, 4.5408739 , 4.77345172,\n",
       "       6.66925043, 8.00727164, 4.20698219, 1.14452255, 2.56178772,\n",
       "       4.89951786, 0.85282708, 7.16763097, 3.31003791, 6.10183378,\n",
       "       5.9819869 , 8.25499854, 8.86270018, 8.50226321, 5.27954707,\n",
       "       4.60578181, 0.24666482, 9.34994129, 3.36405683, 1.32582635,\n",
       "       1.96672423, 3.61211198, 2.33376858, 1.52311374, 4.26677686])"
      ]
     },
     "execution_count": 23,
     "metadata": {},
     "output_type": "execute_result"
    }
   ],
   "source": [
    "l1[:,1]"
   ]
  },
  {
   "cell_type": "code",
   "execution_count": 24,
   "id": "8a3610f3",
   "metadata": {},
   "outputs": [
    {
     "data": {
      "image/png": "[encoded data removed]",
      "text/plain": [
       "<Figure size 432x288 with 1 Axes>"
      ]
     },
     "metadata": {
      "needs_background": "light"
     },
     "output_type": "display_data"
    }
   ],
   "source": [
    "plt.plot( l1[:,0], l1[:,1], \"r.\" )\n",
    "plt.plot( l2[:,0], l2[:,1], \"b.\" );"
   ]
  },
  {
   "cell_type": "markdown",
   "id": "6eebbd29",
   "metadata": {},
   "source": [
    "<span style=\"color:green\">\n",
    "Это правильный ответ (искомые прямые раскрашены).\n",
    "</span>"
   ]
  },
  {
   "cell_type": "markdown",
   "id": "3351d3f1-7ae4-4442-bf8a-d5f12c8539e3",
   "metadata": {},
   "source": [
    "<b>Поиск идеально заданных орезков</b>"
   ]
  },
  {
   "cell_type": "markdown",
   "id": "dd7cf7d6-f8e0-4017-b983-d3cfaf37671e",
   "metadata": {},
   "source": [
    "Нужно найти эти прямые."
   ]
  },
  {
   "cell_type": "markdown",
   "id": "a1a9aa75-a8e0-49a6-97ef-58f5f30fedeb",
   "metadata": {},
   "source": [
    "Как будем действовать. \n",
    "<span style=\"color:green\">Прямая задается 2 точками.\n",
    "</span>\n",
    "Берем пару случайных точек.\n",
    "Мы имеем два случая:\n",
    "а) нам повезло и они принадлежат одной прямой\n",
    "б) они принадлежат разным прямым.\n",
    "\n",
    "Как понять какой случай у нас?\n",
    "Очевидно по \"поддержке\".\n",
    "Так, строим прямую через эти две точки и смотрим сколько точек находятся от ней на расстоянии эпсилон.\n",
    "Если точек много, то эти две точки принадлежат одной прямой."
   ]
  },
  {
   "cell_type": "code",
   "execution_count": 25,
   "id": "282da2a1",
   "metadata": {},
   "outputs": [],
   "source": [
    "# объединим два массива точек в один.\n",
    "ll = np.vstack( (l1, l2) )"
   ]
  },
  {
   "cell_type": "code",
   "execution_count": 26,
   "id": "0c46f3b8-abdd-4a01-9a08-de598675048c",
   "metadata": {},
   "outputs": [
    {
     "data": {
      "text/plain": [
       "(100, 2)"
      ]
     },
     "execution_count": 26,
     "metadata": {},
     "output_type": "execute_result"
    }
   ],
   "source": [
    "ll.shape"
   ]
  },
  {
   "cell_type": "markdown",
   "id": "6dea8dc6-7f94-4f92-9cdd-235cd5cf0884",
   "metadata": {},
   "source": [
    "Вот в таком наборе точек нужно найти отрезок."
   ]
  },
  {
   "cell_type": "code",
   "execution_count": 27,
   "id": "3f4c9933-4d80-4a7b-bf67-d3902243471c",
   "metadata": {},
   "outputs": [
    {
     "data": {
      "image/png": "[encoded data removed]",
      "text/plain": [
       "<Figure size 432x288 with 1 Axes>"
      ]
     },
     "metadata": {
      "needs_background": "light"
     },
     "output_type": "display_data"
    }
   ],
   "source": [
    "plt.plot( ll[:,0], ll[:,1], \".\" );"
   ]
  },
  {
   "cell_type": "markdown",
   "id": "9e2edce4-9fbe-46de-9f12-04a513e21466",
   "metadata": {},
   "source": [
    "<b>Прямая через две точки</b>"
   ]
  },
  {
   "cell_type": "markdown",
   "id": "855f73a6-2cc7-4724-88a2-8275b6649db5",
   "metadata": {},
   "source": [
    "Построим прямую проходящую через две точки."
   ]
  },
  {
   "cell_type": "code",
   "execution_count": 28,
   "id": "ccd32767-eeee-40a3-b7d4-e8fc430c49b5",
   "metadata": {},
   "outputs": [
    {
     "data": {
      "text/plain": [
       "(array([0.        , 4.60578181]), array([7.17196323, 0.        ]))"
      ]
     },
     "execution_count": 28,
     "metadata": {},
     "output_type": "execute_result"
    }
   ],
   "source": [
    "p1 = ll[40]\n",
    "p2 = ll[70]\n",
    "\n",
    "p1, p2"
   ]
  },
  {
   "cell_type": "code",
   "execution_count": 29,
   "id": "d2ea7c7c-f06c-4083-8a5b-1745fc137ad6",
   "metadata": {},
   "outputs": [
    {
     "data": {
      "text/plain": [
       "array([ 7.17196323, -4.60578181])"
      ]
     },
     "execution_count": 29,
     "metadata": {},
     "output_type": "execute_result"
    }
   ],
   "source": [
    "d = p2 - p1\n",
    "d"
   ]
  },
  {
   "cell_type": "markdown",
   "id": "8f7657c5-fa18-4554-bf5c-37968b660433",
   "metadata": {},
   "source": [
    "Будем использовать параметрическое задание отрезка/прямой."
   ]
  },
  {
   "cell_type": "code",
   "execution_count": 16,
   "id": "5d09d153-d934-453e-acc0-03ecd9eb2bb3",
   "metadata": {},
   "outputs": [],
   "source": [
    "t = np.linspace( 0, 1, 50 )"
   ]
  },
  {
   "cell_type": "code",
   "execution_count": 17,
   "id": "61cb2a7b-49c3-497c-96db-1ec70139f950",
   "metadata": {},
   "outputs": [
    {
     "data": {
      "text/plain": [
       "(50, 2)"
      ]
     },
     "execution_count": 17,
     "metadata": {},
     "output_type": "execute_result"
    }
   ],
   "source": [
    "p = np.outer(t, d) + p1\n",
    "p.shape"
   ]
  },
  {
   "cell_type": "code",
   "execution_count": 18,
   "id": "30cdaf46-48e3-45e2-bbc0-17a4b9156a9c",
   "metadata": {
    "scrolled": false
   },
   "outputs": [
    {
     "data": {
      "image/png": "[encoded data removed]",
      "text/plain": [
       "<Figure size 640x480 with 1 Axes>"
      ]
     },
     "metadata": {},
     "output_type": "display_data"
    }
   ],
   "source": [
    "plt.plot( ll[:,0], ll[:,1], \"r.\" )\n",
    "plt.plot( p[:,0], p[:,1], \"b.\" );"
   ]
  },
  {
   "cell_type": "markdown",
   "id": "dee160ac",
   "metadata": {},
   "source": [
    "<span style=\"color:green\"> \n",
    "Здесь мы попали в случай б)\n",
    "</span>"
   ]
  },
  {
   "cell_type": "markdown",
   "id": "583d81e4-1008-49f9-a3bb-3096ed70cfa1",
   "metadata": {},
   "source": [
    "<b>Зададим уравнение прямой</b>"
   ]
  },
  {
   "cell_type": "markdown",
   "id": "1970bbfa-8a91-4b9e-831c-a79e72f0034a",
   "metadata": {},
   "source": [
    "Найдем уравнение в виде ax+by+c=0"
   ]
  },
  {
   "cell_type": "code",
   "execution_count": 19,
   "id": "25ac288d-0af2-48c0-8038-9b4da922e280",
   "metadata": {},
   "outputs": [
    {
     "data": {
      "text/plain": [
       "array([9.34200581, 0.        ])"
      ]
     },
     "execution_count": 19,
     "metadata": {},
     "output_type": "execute_result"
    }
   ],
   "source": [
    "p3 = ll[55]\n",
    "p3"
   ]
  },
  {
   "cell_type": "code",
   "execution_count": 20,
   "id": "e98738f9-1103-4a88-9cbe-85aa2d4211b9",
   "metadata": {},
   "outputs": [
    {
     "data": {
      "text/plain": [
       "'Уравнение прямой -4.605781807763664*x + -7.171963228874198*y + 33.03249776549873 = 0'"
      ]
     },
     "execution_count": 20,
     "metadata": {},
     "output_type": "execute_result"
    }
   ],
   "source": [
    "# 0 -- x\n",
    "# 1 -- y\n",
    "a = p2[1] - p1[1]\n",
    "b = p1[0] - p2[0]\n",
    "c = -(a*p2[0] + b*p2[1])\n",
    "\"Уравнение прямой {}*x + {}*y + {} = 0\".format( a, b, c )"
   ]
  },
  {
   "cell_type": "markdown",
   "id": "7ab3195d-7d28-448f-a131-df6160aae60f",
   "metadata": {},
   "source": [
    "Проверим что проходит через выбранные точки."
   ]
  },
  {
   "cell_type": "code",
   "execution_count": 21,
   "id": "c226a56d-31cc-4bbc-a5fd-16fe5d63615f",
   "metadata": {},
   "outputs": [
    {
     "data": {
      "text/plain": [
       "(0.0, 0.0)"
      ]
     },
     "execution_count": 21,
     "metadata": {},
     "output_type": "execute_result"
    }
   ],
   "source": [
    "a*p2[0] + b*p2[1] + c, a*p1[0] + b*p1[1] + c"
   ]
  },
  {
   "cell_type": "markdown",
   "id": "d5aaed00-9fc2-40cf-856a-67543e25cefa",
   "metadata": {},
   "source": [
    "<b>Найдем расстояние от точки до прямой</b>"
   ]
  },
  {
   "cell_type": "markdown",
   "id": "1a09aded-8323-4c55-b1a5-b527fd53aae6",
   "metadata": {},
   "source": [
    "Известна формула для поиска расстояния от точки до прямой заданное отмеченым ранее уравнением."
   ]
  },
  {
   "cell_type": "code",
   "execution_count": 22,
   "id": "fe406686-8ead-4243-86b6-6ae9c775c04d",
   "metadata": {},
   "outputs": [
    {
     "data": {
      "text/plain": [
       "-1.1726082934117088"
      ]
     },
     "execution_count": 22,
     "metadata": {},
     "output_type": "execute_result"
    }
   ],
   "source": [
    "(a*p3[0] + b*p3[1] + c)/(np.sqrt(a**2 + b**2))"
   ]
  },
  {
   "cell_type": "markdown",
   "id": "a2383f02-ea52-4996-9b45-9ed7cff7b4a6",
   "metadata": {},
   "source": [
    "Итого, более коротко так."
   ]
  },
  {
   "cell_type": "code",
   "execution_count": 23,
   "id": "e46b618b-6358-4a0a-b17a-2d77407d4146",
   "metadata": {},
   "outputs": [
    {
     "data": {
      "text/plain": [
       "1.1726082934117088"
      ]
     },
     "execution_count": 23,
     "metadata": {},
     "output_type": "execute_result"
    }
   ],
   "source": [
    "np.cross(p2-p1,p3-p1)/np.linalg.norm(p2-p1)"
   ]
  },
  {
   "cell_type": "code",
   "execution_count": 24,
   "id": "7c7d0bda-a203-476e-b352-63e90a63bb6d",
   "metadata": {},
   "outputs": [
    {
     "data": {
      "text/plain": [
       "array([3.7667378 , 3.1605864 , 1.60050608, 4.30059276, 1.68646776,\n",
       "       2.86038432, 2.84152225, 1.53133201, 1.74589267, 1.89629514])"
      ]
     },
     "execution_count": 24,
     "metadata": {},
     "output_type": "execute_result"
    }
   ],
   "source": [
    "# Расстояние до прямой для каждой из точек.\n",
    "dd = np.abs( np.cross(p2-p1,ll-p1)/np.linalg.norm(p2-p1) )\n",
    "dd[10:20]"
   ]
  },
  {
   "cell_type": "code",
   "execution_count": 25,
   "id": "ba05bff0-5527-4f44-b0b3-34b91c6d271d",
   "metadata": {},
   "outputs": [
    {
     "data": {
      "text/plain": [
       "4"
      ]
     },
     "execution_count": 25,
     "metadata": {},
     "output_type": "execute_result"
    }
   ],
   "source": [
    "# Количество точек на расстоянии 0.1\n",
    "np.sum( dd < 0.1 )"
   ]
  },
  {
   "cell_type": "markdown",
   "id": "04bb2ae5",
   "metadata": {},
   "source": [
    "<span style=\"color:green\"> \n",
    "Теперь переберем 50 пар точек в цикле, сохраним индексы (\\(jj1, jj2\\)) тех точек,\n",
    " через которые проходит прямая с максимальной \"поддержкой\" \\(m\\).\n",
    "</span>"
   ]
  },
  {
   "cell_type": "code",
   "execution_count": 26,
   "id": "6fc388ee-99a2-412b-99d7-4e921f1c9c31",
   "metadata": {},
   "outputs": [],
   "source": [
    "m = 0\n",
    "jj1 = 0\n",
    "jj2 = 0\n",
    "for _ in range(50):\n",
    "    ii1 = rng.integers( ll.shape[0] ) #np.random.randint( ll.shape[0] ) \n",
    "    ii2 = rng.integers( ll.shape[0] ) #np.random.randint( ll.shape[0] ) \n",
    "    p1 = ll[ ii1 ]\n",
    "    p2 = ll[ ii2 ]\n",
    "    v = np.linalg.norm(p2-p1)\n",
    "    # Если точки совпали, то выбираем другую пару.\n",
    "    if v == 0:\n",
    "        continue\n",
    "    dd = np.abs( np.cross(p2-p1,ll-p1)/v )\n",
    "    cnt = np.sum( dd < 0.1 )\n",
    "    if cnt > m:\n",
    "        jj1 = ii1\n",
    "        jj2 = ii2\n",
    "        m = cnt"
   ]
  },
  {
   "cell_type": "code",
   "execution_count": 27,
   "id": "81215a09-af7e-43e5-8546-4da2dd26c8a3",
   "metadata": {},
   "outputs": [
    {
     "name": "stdout",
     "output_type": "stream",
     "text": [
      "27 22 50\n"
     ]
    }
   ],
   "source": [
    "print(jj1, jj2, m)"
   ]
  },
  {
   "cell_type": "code",
   "execution_count": 28,
   "id": "e1b3483c-1d4f-441d-bc15-e01ff20a038b",
   "metadata": {},
   "outputs": [],
   "source": [
    "p1 = ll[jj1]\n",
    "p2 = ll[jj2]\n",
    "d = p2 - p1\n",
    "p = np.outer(t,d) + p1"
   ]
  },
  {
   "cell_type": "code",
   "execution_count": 29,
   "id": "4aa1fa28-4277-49a6-850f-3a310bf68787",
   "metadata": {},
   "outputs": [
    {
     "data": {
      "image/png": "[encoded data removed]",
      "text/plain": [
       "<Figure size 640x480 with 1 Axes>"
      ]
     },
     "metadata": {},
     "output_type": "display_data"
    }
   ],
   "source": [
    "plt.plot( ll[:,0], ll[:,1], \"r.\" )\n",
    "plt.plot( p[:,0], p[:,1], \"b.\" );"
   ]
  },
  {
   "cell_type": "markdown",
   "id": "1016485b",
   "metadata": {},
   "source": [
    "<span style=\"color:green\"> \n",
    "   Здесь изображен отрезок между 2 найденными точками.\n",
    "   Он относится к одной из искомых прямых, \n",
    "   то есть мы нашли правильное множество точек.\n",
    "</span>"
   ]
  },
  {
   "cell_type": "markdown",
   "id": "bc66d01a",
   "metadata": {},
   "source": [
    "<span style=\"color:green\"> \n",
    "Вынесем приведенный выше код в отдельную функцию:\n",
    "</span>"
   ]
  },
  {
   "cell_type": "code",
   "execution_count": 30,
   "id": "59040372-8600-447c-97b6-9229e1bb75b3",
   "metadata": {},
   "outputs": [],
   "source": [
    "def search_4_line(ll, dist = 0.02):\n",
    "    m = 0\n",
    "    jj1 = 0\n",
    "    jj2 = 0\n",
    "    d = 0\n",
    "\n",
    "    for _ in range(50):\n",
    "        ii1 = rng.integers( ll.shape[0] ) #np.random.randint( ll.shape[0] ) \n",
    "        ii2 = rng.integers( ll.shape[0] ) #np.random.randint( ll.shape[0] ) \n",
    "        p1 = ll[ ii1 ]\n",
    "        p2 = ll[ ii2 ]\n",
    "        v = np.linalg.norm(p2-p1)\n",
    "        if v==0:\n",
    "            continue\n",
    "\n",
    "        dd = np.abs( np.cross(p2-p1,ll-p1)/v )\n",
    "        cnt = np.sum( dd < dist )\n",
    "        if (cnt > m) or ( cnt == m and v > d ):\n",
    "            jj1 = ii1\n",
    "            jj2 = ii2\n",
    "            m = cnt\n",
    "            d = v\n",
    "    return jj1, jj2"
   ]
  },
  {
   "cell_type": "code",
   "execution_count": 31,
   "id": "c8d202f2-eb2a-4177-8722-3d8690f80f78",
   "metadata": {},
   "outputs": [],
   "source": [
    "jj1, jj2 = search_4_line( ll )"
   ]
  },
  {
   "cell_type": "code",
   "execution_count": 32,
   "id": "93b44fab-f0d7-4dca-a025-1233c4585593",
   "metadata": {},
   "outputs": [],
   "source": [
    "p1 = ll[jj1]\n",
    "p2 = ll[jj2]\n",
    "d = p2 - p1\n",
    "p = np.outer(t,d) + p1"
   ]
  },
  {
   "cell_type": "code",
   "execution_count": 33,
   "id": "9bd5bb15-26b9-496b-aa12-afb3ac522291",
   "metadata": {},
   "outputs": [
    {
     "data": {
      "image/png": "[encoded data removed]",
      "text/plain": [
       "<Figure size 640x480 with 1 Axes>"
      ]
     },
     "metadata": {},
     "output_type": "display_data"
    }
   ],
   "source": [
    "plt.plot( ll[:,0], ll[:,1], \"r.\" )\n",
    "plt.plot( p[:,0], p[:,1], \"b.\" );"
   ]
  },
  {
   "cell_type": "markdown",
   "id": "06bc339d-0c87-4479-8789-bbf970fe530a",
   "metadata": {},
   "source": [
    "Ищем две самые удаленные точки <span style=\"color:green\"> одной из искомых прямых.\n",
    "</span>"
   ]
  },
  {
   "cell_type": "code",
   "execution_count": 34,
   "id": "07e9f84c-324d-4275-88f0-fb0ab26fe911",
   "metadata": {},
   "outputs": [],
   "source": [
    "def refine_points( ll, jj1, jj2, dist = 0.02):\n",
    "    p1 = ll[jj1]\n",
    "    p2 = ll[jj2]\n",
    "    v = np.linalg.norm(p2-p1)\n",
    "    for i in range(ll.shape[0]):\n",
    "        p = ll[i]\n",
    "        dis = np.abs( np.cross(p2-p1,p-p1)/np.linalg.norm(p2-p1) )\n",
    "        if dis > dist:\n",
    "            continue\n",
    "        v1 = np.linalg.norm(p-p1)\n",
    "        v2 = np.linalg.norm(p-p2)\n",
    "        if v1 > v:\n",
    "            jj2 = i\n",
    "            p2 = p\n",
    "        elif v2>v:\n",
    "            jj1 = i\n",
    "            p1 = p\n",
    "    return jj1, jj2"
   ]
  },
  {
   "cell_type": "code",
   "execution_count": 35,
   "id": "bdef55ab-0e2e-4117-b1e0-2ae57601b6c6",
   "metadata": {},
   "outputs": [],
   "source": [
    "jj1, jj2 = refine_points( ll, jj1, jj2)"
   ]
  },
  {
   "cell_type": "code",
   "execution_count": 36,
   "id": "e18adc48-3b9c-468f-9429-3705e4b52d18",
   "metadata": {},
   "outputs": [],
   "source": [
    "p1 = ll[jj1]\n",
    "p2 = ll[jj2]\n",
    "d = p2 - p1\n",
    "p = np.outer(t,d) + p1"
   ]
  },
  {
   "cell_type": "code",
   "execution_count": 38,
   "id": "5cbe39c0-c235-431a-8669-a702a9dd130c",
   "metadata": {},
   "outputs": [
    {
     "data": {
      "image/png": "[encoded data removed]",
      "text/plain": [
       "<Figure size 640x480 with 1 Axes>"
      ]
     },
     "metadata": {},
     "output_type": "display_data"
    }
   ],
   "source": [
    "plt.plot( ll[:,0], ll[:,1], \"r.\" )\n",
    "plt.plot( p[:,0], p[:,1], \"b.\" );"
   ]
  },
  {
   "cell_type": "markdown",
   "id": "c60cbe91",
   "metadata": {},
   "source": [
    "<span style=\"color:green\">\n",
    "Нашли чуть более удаленные точки.\n",
    "</span>"
   ]
  },
  {
   "cell_type": "markdown",
   "id": "44cad2bf",
   "metadata": {},
   "source": [
    "<span style=\"color:green\"> \n",
    "Теперь вычислим расстояние от всех точек до найденной прямой и разобьем\n",
    "  точки на 2 множества.\n",
    "</span>"
   ]
  },
  {
   "cell_type": "code",
   "execution_count": 39,
   "id": "ce152b15-9a43-490f-8103-6886bb6eab3b",
   "metadata": {},
   "outputs": [],
   "source": [
    "dis = np.abs( np.cross(p2-p1,ll-p1)/np.linalg.norm(p2-p1) )"
   ]
  },
  {
   "cell_type": "code",
   "execution_count": 40,
   "id": "5bd997e5-1f9a-4075-9910-1ad36bb1a892",
   "metadata": {},
   "outputs": [],
   "source": [
    "n1 = ll[ dis < 0.15 ]"
   ]
  },
  {
   "cell_type": "code",
   "execution_count": 41,
   "id": "80113d60-62a1-4ef1-99c0-bae5b3698472",
   "metadata": {},
   "outputs": [],
   "source": [
    "o1 = ll[ np.logical_not(dis < 0.15) ]"
   ]
  },
  {
   "cell_type": "markdown",
   "id": "19875688-8bac-4cdf-8973-6473c9370033",
   "metadata": {},
   "source": [
    "Отделили найденные точки лежащие на прямой от остальных."
   ]
  },
  {
   "cell_type": "code",
   "execution_count": 42,
   "id": "377b3295-f8fe-4518-9fa7-a2ccda2a24ae",
   "metadata": {},
   "outputs": [
    {
     "data": {
      "image/png": "[encoded data removed]",
      "text/plain": [
       "<Figure size 640x480 with 1 Axes>"
      ]
     },
     "metadata": {},
     "output_type": "display_data"
    }
   ],
   "source": [
    "plt.plot( n1[:,0], n1[:,1], \"b.\" )\n",
    "plt.plot( o1[:,0], o1[:,1], \"r.\" );"
   ]
  },
  {
   "cell_type": "markdown",
   "id": "9022c0bf-2b46-4119-b797-c769fa6fa2f6",
   "metadata": {},
   "source": [
    "<span style=\"color:green\"> \n",
    "    В случае когда прямых больше, чем 2, отбрасываем уже найденные множества точек\n",
    "    (прямые). \n",
    "</span>\n",
    "С оставшимися точками необходимо провести аналогичную процедуру.\n",
    "И так пока все точки не будут обработаны."
   ]
  },
  {
   "cell_type": "markdown",
   "id": "ad28e914",
   "metadata": {},
   "source": [
    "<span style=\"color:green\"> \n",
    "    В рассмотренном случае не было шума. Добавим его.\n",
    "</span>"
   ]
  },
  {
   "cell_type": "markdown",
   "id": "a645bcec-e9bc-4d8f-b7dd-dcbcdf0d7c1c",
   "metadata": {},
   "source": [
    "<h3>Облако точек вдоль отрезка</h3>"
   ]
  },
  {
   "cell_type": "markdown",
   "id": "414c33e5-47e4-4483-9904-43fc8c862a14",
   "metadata": {},
   "source": [
    "<b>Облако точек вдоль отрезка</b>"
   ]
  },
  {
   "cell_type": "markdown",
   "id": "2de22181-d752-4f7a-8868-9b6626289a58",
   "metadata": {},
   "source": [
    "Сформируем датасет большего размера."
   ]
  },
  {
   "cell_type": "code",
   "execution_count": 43,
   "id": "aef0927e-6977-4638-bfd2-e09941527266",
   "metadata": {},
   "outputs": [],
   "source": [
    "rr = rng.random( 50 ) #np.random.rand( 50 )\n",
    "ll = rng.standard_normal( 50 )/100 # np.random.randn( 50 )/100"
   ]
  },
  {
   "cell_type": "code",
   "execution_count": 44,
   "id": "6cff5b50-66d2-4749-b08b-0b4caec17230",
   "metadata": {},
   "outputs": [
    {
     "data": {
      "text/plain": [
       "(0.008893176798098557, 0.021537110354291126)"
      ]
     },
     "execution_count": 44,
     "metadata": {},
     "output_type": "execute_result"
    }
   ],
   "source": [
    "np.std( ll ), np.max( np.abs(ll) )"
   ]
  },
  {
   "cell_type": "code",
   "execution_count": 45,
   "id": "8dd0b731-7502-46ba-bbb6-e37d560eb42f",
   "metadata": {},
   "outputs": [],
   "source": [
    "dd = np.dstack( (rr, ll) )[0]"
   ]
  },
  {
   "cell_type": "code",
   "execution_count": 46,
   "id": "4f5eb55e-bbd1-4fe2-84a1-a6cadf72ce1f",
   "metadata": {},
   "outputs": [
    {
     "data": {
      "text/plain": [
       "(50, 2)"
      ]
     },
     "execution_count": 46,
     "metadata": {},
     "output_type": "execute_result"
    }
   ],
   "source": [
    "dd.shape"
   ]
  },
  {
   "cell_type": "code",
   "execution_count": 47,
   "id": "7c6cbc46-476c-45b0-b08f-1c1e0a4ffba9",
   "metadata": {},
   "outputs": [
    {
     "data": {
      "text/plain": [
       "array([ 0.27473804, -0.01258123])"
      ]
     },
     "execution_count": 47,
     "metadata": {},
     "output_type": "execute_result"
    }
   ],
   "source": [
    "dd[4]"
   ]
  },
  {
   "cell_type": "code",
   "execution_count": 48,
   "id": "76007327-edab-45dc-b7e8-cc5a2fa47f45",
   "metadata": {},
   "outputs": [
    {
     "data": {
      "image/png": "[encoded data removed]",
      "text/plain": [
       "<Figure size 640x480 with 1 Axes>"
      ]
     },
     "metadata": {},
     "output_type": "display_data"
    }
   ],
   "source": [
    "plt.plot( dd[:,0], dd[:,1], \"r.\")\n",
    "plt.axis( 'equal');"
   ]
  },
  {
   "cell_type": "markdown",
   "id": "1e59752c-34b3-497c-b178-4ed465707bf6",
   "metadata": {},
   "source": [
    "Научимся его поворачивать"
   ]
  },
  {
   "cell_type": "code",
   "execution_count": 49,
   "id": "4cdc0a38-b29e-4a00-88af-6d56658e2b24",
   "metadata": {},
   "outputs": [],
   "source": [
    "def make_rotate( deg ):\n",
    "    theta = np.radians( deg )\n",
    "    return np.array(( (np.cos(theta), -np.sin(theta)),\n",
    "               (np.sin(theta),  np.cos(theta)) ))"
   ]
  },
  {
   "cell_type": "code",
   "execution_count": 50,
   "id": "059a7030-870c-4fce-8df9-c5bac1cb02cc",
   "metadata": {},
   "outputs": [],
   "source": [
    "r30 = make_rotate( 30 )"
   ]
  },
  {
   "cell_type": "code",
   "execution_count": 51,
   "id": "d02569b4-ee6c-44fb-aebb-6c01f1cd5c74",
   "metadata": {},
   "outputs": [],
   "source": [
    "dd30 = r30.dot( dd.T ).T"
   ]
  },
  {
   "cell_type": "code",
   "execution_count": 52,
   "id": "cf37df64-092e-45d9-b90c-7322dac91774",
   "metadata": {
    "scrolled": true
   },
   "outputs": [
    {
     "data": {
      "image/png": "[encoded data removed]",
      "text/plain": [
       "<Figure size 640x480 with 1 Axes>"
      ]
     },
     "metadata": {},
     "output_type": "display_data"
    }
   ],
   "source": [
    "plt.plot( dd30[:,0], dd30[:,1], \"r.\")\n",
    "plt.axis( 'equal');"
   ]
  },
  {
   "cell_type": "code",
   "execution_count": 53,
   "id": "f3b351eb-c120-47a1-9f7e-a63a741c5b78",
   "metadata": {},
   "outputs": [],
   "source": [
    "def make_line( n = 50, k = 100 ):\n",
    "    rr = rng.random( n ) #np.random.rand( n )\n",
    "    ll = rng.standard_normal( n )/k #np.random.randn( n )/k\n",
    "    return np.dstack( (rr, ll) )[0]"
   ]
  },
  {
   "cell_type": "code",
   "execution_count": 54,
   "id": "dadccada-d71d-4b10-b4d1-35e2fa673015",
   "metadata": {},
   "outputs": [],
   "source": [
    "dd30 = (make_rotate( 30 ).dot( make_line().T ) ).T\n",
    "rm30 = (make_rotate( -30 ).dot( make_line().T ) ).T\n",
    "rm90 = (make_rotate( 90 ).dot( make_line().T ) ).T"
   ]
  },
  {
   "cell_type": "code",
   "execution_count": 55,
   "id": "989f19b4-f923-46d1-af1f-affd4a3c8c61",
   "metadata": {},
   "outputs": [],
   "source": [
    "rm30 = rm30 + np.array([-0.2,0.1])\n",
    "dd30 = dd30 + np.array([-0.0,-0.1])\n",
    "rm90 = rm90 + np.array([0.45,-0.5])"
   ]
  },
  {
   "cell_type": "code",
   "execution_count": 57,
   "id": "fd8f42dd-9cf2-4061-8a4b-7654805159c2",
   "metadata": {
    "scrolled": true
   },
   "outputs": [
    {
     "data": {
      "image/png": "[encoded data removed]",
      "text/plain": [
       "<Figure size 640x480 with 1 Axes>"
      ]
     },
     "metadata": {},
     "output_type": "display_data"
    }
   ],
   "source": [
    "plt.plot( rm30[:,0], rm30[:,1], \"r.\")\n",
    "plt.plot( dd30[:,0], dd30[:,1], \"b.\")\n",
    "plt.plot( rm90[:,0], rm90[:,1], \"g.\")\n",
    "plt.axis( 'equal');"
   ]
  },
  {
   "cell_type": "markdown",
   "id": "997e56df",
   "metadata": {},
   "source": [
    "<span style=\"color:green\"> \n",
    "Множество точек: 3 прямые. Как их разделить?\n",
    "</span>"
   ]
  },
  {
   "cell_type": "code",
   "execution_count": 58,
   "id": "96a67692-96c7-4fcf-9aac-ff9a0b02a8b5",
   "metadata": {},
   "outputs": [
    {
     "data": {
      "text/plain": [
       "(150, 2)"
      ]
     },
     "execution_count": 58,
     "metadata": {},
     "output_type": "execute_result"
    }
   ],
   "source": [
    "qq = np.vstack( (dd30, rm30, rm90) )\n",
    "qq.shape"
   ]
  },
  {
   "cell_type": "code",
   "execution_count": 59,
   "id": "d6bb45d0-f90f-48e0-b4f3-319c591664d9",
   "metadata": {},
   "outputs": [
    {
     "data": {
      "image/png": "[encoded data removed]",
      "text/plain": [
       "<Figure size 640x480 with 1 Axes>"
      ]
     },
     "metadata": {},
     "output_type": "display_data"
    }
   ],
   "source": [
    "plt.plot( qq[:,0], qq[:,1], \"y.\")\n",
    "plt.axis( 'equal');"
   ]
  },
  {
   "cell_type": "markdown",
   "id": "cdd7715a-47d4-4f06-86c4-47c789cccedb",
   "metadata": {},
   "source": [
    "<b>Найдем отрезки</b>"
   ]
  },
  {
   "cell_type": "markdown",
   "id": "589edac7-b0a4-49f4-a050-3393db6a0f6e",
   "metadata": {},
   "source": [
    "Фактически восстановим отрезки. \n",
    "<span style=\"color:green\"> \n",
    "Используем функцию \"search_4_line\", определенную выше.\n",
    "</span>"
   ]
  },
  {
   "cell_type": "code",
   "execution_count": 60,
   "id": "281c1de0-325c-480a-922c-ab8ea3af6bc1",
   "metadata": {},
   "outputs": [],
   "source": [
    "ii, jj = search_4_line( qq, dist = 0.015 )"
   ]
  },
  {
   "cell_type": "code",
   "execution_count": 61,
   "id": "eb48edc9-08f1-482d-9e5e-f917003a4052",
   "metadata": {},
   "outputs": [
    {
     "data": {
      "text/plain": [
       "(92, 62)"
      ]
     },
     "execution_count": 61,
     "metadata": {},
     "output_type": "execute_result"
    }
   ],
   "source": [
    "ii, jj"
   ]
  },
  {
   "cell_type": "code",
   "execution_count": 62,
   "id": "c75b0975-ffce-4143-89fe-2923b98bd0fe",
   "metadata": {},
   "outputs": [
    {
     "data": {
      "text/plain": [
       "(2, 2)"
      ]
     },
     "execution_count": 62,
     "metadata": {},
     "output_type": "execute_result"
    }
   ],
   "source": [
    "pp = qq[ [ii,jj] ]\n",
    "pp.shape"
   ]
  },
  {
   "cell_type": "code",
   "execution_count": 63,
   "id": "bba298e9-9658-4889-b2e1-085a5ce09bca",
   "metadata": {
    "scrolled": true
   },
   "outputs": [
    {
     "data": {
      "image/png": "[encoded data removed]",
      "text/plain": [
       "<Figure size 640x480 with 1 Axes>"
      ]
     },
     "metadata": {},
     "output_type": "display_data"
    }
   ],
   "source": [
    "plt.plot( qq[:,0], qq[:,1], \"y.\")\n",
    "plt.plot( pp[:,0], pp[:,1], \"p-\")\n",
    "plt.axis( 'equal');"
   ]
  },
  {
   "cell_type": "markdown",
   "id": "e889920a",
   "metadata": {},
   "source": [
    "<span style=\"color:green\"> \n",
    "Расширим отрезок:\n",
    "</span>"
   ]
  },
  {
   "cell_type": "code",
   "execution_count": 64,
   "id": "92f91355-6b92-4608-8532-ed54001898cb",
   "metadata": {},
   "outputs": [],
   "source": [
    "ii, jj = refine_points( qq, ii, jj, dist = 0.02)"
   ]
  },
  {
   "cell_type": "code",
   "execution_count": 66,
   "id": "3cc19af5-81b9-478c-a978-fd2fef576cdf",
   "metadata": {},
   "outputs": [
    {
     "data": {
      "image/png": "[encoded data removed]",
      "text/plain": [
       "<Figure size 640x480 with 1 Axes>"
      ]
     },
     "metadata": {},
     "output_type": "display_data"
    }
   ],
   "source": [
    "pp = qq[ [ii,jj] ]\n",
    "plt.plot( qq[:,0], qq[:,1], \"y.\")\n",
    "plt.plot( pp[:,0], pp[:,1], \"p-\")\n",
    "plt.axis( 'equal');"
   ]
  },
  {
   "cell_type": "markdown",
   "id": "9697e96d",
   "metadata": {},
   "source": [
    "<span style=\"color:green\"> \n",
    "Отдельно выведем найденные точки:\n",
    "</span>"
   ]
  },
  {
   "cell_type": "code",
   "execution_count": 67,
   "id": "21025c41-45ce-4111-b26d-46d1f0c01e5e",
   "metadata": {},
   "outputs": [],
   "source": [
    "p2, p1 = qq[ [ii,jj] ]\n",
    "dis = np.abs( np.cross(p2-p1,qq-p1)/np.linalg.norm(p2-p1) )\n",
    "qqq = qq[ dis < 0.02 ]"
   ]
  },
  {
   "cell_type": "code",
   "execution_count": 68,
   "id": "c7b0b3c3-55bc-4696-b21c-0be15a5ff8c9",
   "metadata": {
    "scrolled": true
   },
   "outputs": [
    {
     "data": {
      "image/png": "[encoded data removed]",
      "text/plain": [
       "<Figure size 640x480 with 1 Axes>"
      ]
     },
     "metadata": {},
     "output_type": "display_data"
    }
   ],
   "source": [
    "plt.plot( qqq[:,0], qqq[:,1], \"g.\")\n",
    "plt.axis( 'equal');"
   ]
  },
  {
   "cell_type": "markdown",
   "id": "7022ec97",
   "metadata": {},
   "source": [
    "<span style=\"color:green\"> \n",
    "Через данное множество точек проведем наилучшую прямую с помощью метода PCA.\n",
    "</span>"
   ]
  },
  {
   "cell_type": "code",
   "execution_count": 69,
   "id": "585bcab6-ebb3-4481-a83e-84be6b793ce7",
   "metadata": {},
   "outputs": [],
   "source": [
    "from sklearn.decomposition import PCA"
   ]
  },
  {
   "cell_type": "code",
   "execution_count": 70,
   "id": "0ae7a137-390e-4a7d-8c3d-e83aff693bc3",
   "metadata": {},
   "outputs": [],
   "source": [
    "pca = PCA(2, random_state = 2021)"
   ]
  },
  {
   "cell_type": "code",
   "execution_count": 71,
   "id": "60e2092a-714b-4504-84da-c01ae1527db6",
   "metadata": {},
   "outputs": [
    {
     "data": {
      "text/plain": [
       "PCA(n_components=2, random_state=2021)"
      ]
     },
     "execution_count": 71,
     "metadata": {},
     "output_type": "execute_result"
    }
   ],
   "source": [
    "pca.fit( qqq )"
   ]
  },
  {
   "cell_type": "code",
   "execution_count": 72,
   "id": "12980fb0-4f32-42e9-8a52-c3ce17cbc567",
   "metadata": {},
   "outputs": [
    {
     "data": {
      "text/plain": [
       "array([[-0.86559379,  0.50074683],\n",
       "       [ 0.50074683,  0.86559379]])"
      ]
     },
     "execution_count": 72,
     "metadata": {},
     "output_type": "execute_result"
    }
   ],
   "source": [
    "pca.components_"
   ]
  },
  {
   "cell_type": "code",
   "execution_count": 73,
   "id": "bf8488f6-f572-463b-8eb3-b9679ac2080f",
   "metadata": {},
   "outputs": [
    {
     "data": {
      "text/plain": [
       "array([ 0.23701257, -0.15482699])"
      ]
     },
     "execution_count": 73,
     "metadata": {},
     "output_type": "execute_result"
    }
   ],
   "source": [
    "pca.mean_"
   ]
  },
  {
   "cell_type": "code",
   "execution_count": 74,
   "id": "37d49427-1a2a-4355-9811-0249853b6621",
   "metadata": {},
   "outputs": [
    {
     "data": {
      "text/plain": [
       "0.2370125730818374"
      ]
     },
     "execution_count": 74,
     "metadata": {},
     "output_type": "execute_result"
    }
   ],
   "source": [
    "np.mean(qqq[:,0] )"
   ]
  },
  {
   "cell_type": "code",
   "execution_count": 75,
   "id": "ada9453d-f8ff-4773-98c3-c9f0317a60cc",
   "metadata": {},
   "outputs": [
    {
     "data": {
      "text/plain": [
       "-0.15482699049409446"
      ]
     },
     "execution_count": 75,
     "metadata": {},
     "output_type": "execute_result"
    }
   ],
   "source": [
    "np.mean(qqq[:,1] )"
   ]
  },
  {
   "cell_type": "code",
   "execution_count": 76,
   "id": "4574540e-7412-4d03-b28a-6981d0a87e47",
   "metadata": {},
   "outputs": [
    {
     "data": {
      "text/plain": [
       "-1.7286056309133302"
      ]
     },
     "execution_count": 76,
     "metadata": {},
     "output_type": "execute_result"
    }
   ],
   "source": [
    "k = -0.86559379/0.50074683\n",
    "k"
   ]
  },
  {
   "cell_type": "code",
   "execution_count": 77,
   "id": "145fee28-4d5e-4595-bff2-7e0d7535f21c",
   "metadata": {},
   "outputs": [],
   "source": [
    "l = lambda x: k*(x - np.mean(qqq[:,1] )) + np.mean(qqq[:,0] )"
   ]
  },
  {
   "cell_type": "code",
   "execution_count": 78,
   "id": "ce111912-27fb-42f0-8c1c-565406ac762b",
   "metadata": {},
   "outputs": [],
   "source": [
    "ll = np.linspace( -0.42, 0.12, 20)"
   ]
  },
  {
   "cell_type": "code",
   "execution_count": 79,
   "id": "05aaa30c-2372-464a-9b36-043e38e5f768",
   "metadata": {
    "scrolled": false
   },
   "outputs": [
    {
     "data": {
      "image/png": "[encoded data removed]",
      "text/plain": [
       "<Figure size 640x480 with 1 Axes>"
      ]
     },
     "metadata": {},
     "output_type": "display_data"
    }
   ],
   "source": [
    "plt.plot( qqq[:,0], qqq[:,1], \"g.\")\n",
    "plt.plot( l(ll), ll, 'r-')\n",
    "plt.axis( 'equal');"
   ]
  },
  {
   "cell_type": "markdown",
   "id": "1263b894",
   "metadata": {},
   "source": [
    "<span style=\"color:green\"> \n",
    "Затем удаляем это множество точек из \"треугольника\" выше и запускаем \n",
    "алгоритм для оставшихся точек.\n",
    "</span>"
   ]
  },
  {
   "cell_type": "markdown",
   "id": "2cddfb06-3456-426a-8d4d-5e64a8c3af2a",
   "metadata": {},
   "source": [
    "<h3>Поиск плоскости</h3>"
   ]
  },
  {
   "cell_type": "markdown",
   "id": "b8963bf9",
   "metadata": {},
   "source": [
    "<span style=\"color:green\"> \n",
    "На предыдущей лекции мы научились строить облако точек по фотографии.    \n",
    "Пусть мы хотим провести плоскость через это облако точек. Плоскость задается 3 точками. Будем действовать аналогично, выбирая\n",
    " уже 3 случайные точки.\n",
    "Получаем алгоритм векторизации облака точек. \n",
    "</span>"
   ]
  },
  {
   "cell_type": "markdown",
   "id": "b0107959",
   "metadata": {},
   "source": [
    "<span style=\"color:green\"> \n",
    "Построим случайные множества точек на плоскости:\n",
    "</span>"
   ]
  },
  {
   "cell_type": "code",
   "execution_count": 80,
   "id": "6db1c962-784d-46d6-a460-3e16712c6e51",
   "metadata": {},
   "outputs": [
    {
     "data": {
      "text/plain": [
       "(30, 2)"
      ]
     },
     "execution_count": 80,
     "metadata": {},
     "output_type": "execute_result"
    }
   ],
   "source": [
    "plane1 = np.dstack( [ rng.random(30), rng.random(30)] )[0] # np.random.rand(30), np.random.rand(30)\n",
    "plane1.shape"
   ]
  },
  {
   "cell_type": "code",
   "execution_count": 81,
   "id": "98ee9a3f-6c5d-4e03-8b2d-eeacb9a315d3",
   "metadata": {},
   "outputs": [
    {
     "data": {
      "image/png": "[encoded data removed]",
      "text/plain": [
       "<Figure size 640x480 with 1 Axes>"
      ]
     },
     "metadata": {},
     "output_type": "display_data"
    }
   ],
   "source": [
    "plt.plot( plane1[:,0], plane1[:,1], \"*\" );"
   ]
  },
  {
   "cell_type": "code",
   "execution_count": 82,
   "id": "dc63a1d3-747d-4aba-840b-5573e16d522c",
   "metadata": {},
   "outputs": [
    {
     "data": {
      "text/plain": [
       "(30,)"
      ]
     },
     "execution_count": 82,
     "metadata": {},
     "output_type": "execute_result"
    }
   ],
   "source": [
    "nz1 = np.random.randn( plane1.shape[0] )/100\n",
    "nz1.shape"
   ]
  },
  {
   "cell_type": "code",
   "execution_count": 83,
   "id": "6eac9455-4f44-45b2-89b3-33b67c99d5e9",
   "metadata": {},
   "outputs": [
    {
     "data": {
      "text/plain": [
       "(30, 3)"
      ]
     },
     "execution_count": 83,
     "metadata": {},
     "output_type": "execute_result"
    }
   ],
   "source": [
    "plane1 = np.append( plane1, np.array([nz1]).T, axis=1)\n",
    "plane1.shape"
   ]
  },
  {
   "cell_type": "code",
   "execution_count": 84,
   "id": "e4c27af8-2f8c-4f0e-9270-95b92466da33",
   "metadata": {},
   "outputs": [],
   "source": [
    "plane2 = np.dstack( [np.random.rand(30), np.random.rand(30)] )[0]\n",
    "nz2 = np.random.randn( plane1.shape[0] )/100\n",
    "plane2 = np.append( plane2, np.array([nz2]).T, axis=1)"
   ]
  },
  {
   "cell_type": "code",
   "execution_count": 85,
   "id": "894aa8e3-a774-45e5-ad15-01451e740aad",
   "metadata": {},
   "outputs": [
    {
     "data": {
      "text/plain": [
       "(30, 3)"
      ]
     },
     "execution_count": 85,
     "metadata": {},
     "output_type": "execute_result"
    }
   ],
   "source": [
    "plane2.shape"
   ]
  },
  {
   "cell_type": "markdown",
   "id": "887adaa4",
   "metadata": {},
   "source": [
    "<span style=\"color:green\"> \n",
    "Сделаем повороты плоскостей вокруг различных осей с помощью \"from_rotvec\":\n",
    "</span>"
   ]
  },
  {
   "cell_type": "code",
   "execution_count": 86,
   "id": "5055f22c-71ce-416c-9048-805598071c3e",
   "metadata": {},
   "outputs": [
    {
     "data": {
      "text/plain": [
       "<scipy.spatial.transform.rotation.Rotation at 0x7fc6c8f21210>"
      ]
     },
     "execution_count": 86,
     "metadata": {},
     "output_type": "execute_result"
    }
   ],
   "source": [
    "R = transform.Rotation.from_rotvec( [0,1,1] )\n",
    "R"
   ]
  },
  {
   "cell_type": "code",
   "execution_count": 87,
   "id": "c4941e3c-700a-4593-a9d8-aae8620d68b4",
   "metadata": {},
   "outputs": [],
   "source": [
    "plane1_ = R.apply( plane1 )"
   ]
  },
  {
   "cell_type": "code",
   "execution_count": 88,
   "id": "d272219c-8502-4cc5-b7e2-cc5a72720541",
   "metadata": {},
   "outputs": [],
   "source": [
    "R = transform.Rotation.from_rotvec( [0.5,0.5,0] )\n",
    "plane2_ = R.apply( plane2 )"
   ]
  },
  {
   "cell_type": "code",
   "execution_count": 89,
   "id": "bf555b60-6056-469e-99be-592658160ec2",
   "metadata": {},
   "outputs": [
    {
     "data": {
      "text/plain": [
       "(1.237771951832705, -0.5956059630168918)"
      ]
     },
     "execution_count": 89,
     "metadata": {},
     "output_type": "execute_result"
    }
   ],
   "source": [
    "np.max( plane1_ ), np.min( plane1_ )"
   ]
  },
  {
   "cell_type": "code",
   "execution_count": 90,
   "id": "dc04e6bc-bdaa-428e-adb1-6cf16a4b6816",
   "metadata": {},
   "outputs": [
    {
     "data": {
      "text/plain": [
       "(0.9464722808711331, -0.3168891558943132)"
      ]
     },
     "execution_count": 90,
     "metadata": {},
     "output_type": "execute_result"
    }
   ],
   "source": [
    "np.max( plane2_ ), np.min( plane2_ )"
   ]
  },
  {
   "cell_type": "code",
   "execution_count": 91,
   "id": "c55c560b-18fd-449a-bad4-68021dce4e2d",
   "metadata": {},
   "outputs": [],
   "source": [
    "# %matplotlib widget"
   ]
  },
  {
   "cell_type": "code",
   "execution_count": 89,
   "id": "7ad9cb22-be3f-46cf-a1c6-bd527a2e3f23",
   "metadata": {},
   "outputs": [
    {
     "name": "stdout",
     "output_type": "stream",
     "text": [
      "Using matplotlib backend: Qt5Agg\n"
     ]
    }
   ],
   "source": [
    "%matplotlib"
   ]
  },
  {
   "cell_type": "code",
   "execution_count": 92,
   "id": "5c064023-564f-45cd-93f6-49e8896d542e",
   "metadata": {},
   "outputs": [
    {
     "data": {
      "image/png": "[encoded data removed]",
      "text/plain": [
       "<Figure size 640x480 with 1 Axes>"
      ]
     },
     "metadata": {},
     "output_type": "display_data"
    }
   ],
   "source": [
    "fig = plt.figure()\n",
    "ax = fig.add_subplot(111, projection='3d')\n",
    "ax.plot3D( plane1_[:,0], plane1_[:,1], plane1_[:,2], '*')\n",
    "ax.plot3D( plane2_[:,0], plane2_[:,1], plane2_[:,2], '*')\n",
    "\n",
    "ax.set_xlim3d(-1., 1.2)\n",
    "ax.set_ylim3d(-1., 1.2)\n",
    "ax.set_zlim3d(-1., 1.2);"
   ]
  },
  {
   "cell_type": "markdown",
   "id": "4eba1aca",
   "metadata": {},
   "source": [
    "<span style=\"color:green\"> \n",
    "Построили 2 пересекающиеся плоскости.\n",
    "</span>"
   ]
  },
  {
   "cell_type": "code",
   "execution_count": 93,
   "id": "678a7512-e06e-4624-a96c-ee6f544c28b2",
   "metadata": {},
   "outputs": [],
   "source": [
    "planes = np.vstack( [plane1_, plane2_] )"
   ]
  },
  {
   "cell_type": "code",
   "execution_count": 94,
   "id": "d4e42ea2-047b-4dfd-8166-6039c331b8af",
   "metadata": {},
   "outputs": [
    {
     "data": {
      "image/png": "[encoded data removed]",
      "text/plain": [
       "<Figure size 640x480 with 1 Axes>"
      ]
     },
     "metadata": {},
     "output_type": "display_data"
    }
   ],
   "source": [
    "fig = plt.figure()\n",
    "ax = fig.add_subplot(111, projection='3d')\n",
    "ax.plot3D( planes[:,0], planes[:,1], planes[:,2], 'b*')\n",
    "\n",
    "ax.set_xlim3d(-1., 1.2)\n",
    "ax.set_ylim3d(-1., 1.2)\n",
    "ax.set_zlim3d(-1., 1.2);"
   ]
  },
  {
   "cell_type": "code",
   "execution_count": 95,
   "id": "c7cdce58-6a44-4509-aeb1-d9ded78dcf03",
   "metadata": {},
   "outputs": [
    {
     "data": {
      "text/plain": [
       "(60, 3)"
      ]
     },
     "execution_count": 95,
     "metadata": {},
     "output_type": "execute_result"
    }
   ],
   "source": [
    "planes.shape"
   ]
  },
  {
   "cell_type": "markdown",
   "id": "ab2a58f7",
   "metadata": {},
   "source": [
    "<span style=\"color:green\"> \n",
    "Запускаем аналогичный алгоритм, выбирающий по 3 точки:\n",
    "</span>"
   ]
  },
  {
   "cell_type": "code",
   "execution_count": 96,
   "id": "a56a4bfd-52c3-499b-93d7-8d3ec713a870",
   "metadata": {},
   "outputs": [],
   "source": [
    "rraa = 0\n",
    "for _ in range(10000):\n",
    "    i = rng.integers(60) # np.random.randint( 60 )\n",
    "    j = rng.integers(60) # np.random.randint( 60 )\n",
    "    k = rng.integers(60) # np.random.randint( 60 )\n",
    "    if i == j or i == k or j == k:\n",
    "        continue\n",
    "    p1 = planes[i]\n",
    "    p2 = planes[j]\n",
    "    p3 = planes[k]\n",
    "    v1 = p2 - p1\n",
    "    v2 = p3 - p1\n",
    "    abc = np.cross( v1, v2 )# ax+by+cz+d=0\n",
    "    abc /= np.sqrt( np.sum(abc**2) )\n",
    "    d = -np.dot( abc, p3)\n",
    "    ss = 0.\n",
    "    for z in range(60):\n",
    "        if z in [i,j,k]:\n",
    "            continue\n",
    "        #print( d )\n",
    "        ss += (np.abs((np.dot( abc, planes[ z ] ) + d)) < 0.01)\n",
    "    #print( ss )\n",
    "    if rraa < ss:\n",
    "        rraa = ss\n",
    "        ii = i\n",
    "        jj = j\n",
    "        kk = k"
   ]
  },
  {
   "cell_type": "code",
   "execution_count": 97,
   "id": "4bf5fd60-0f6e-43af-ae25-6cafb0c8cf96",
   "metadata": {},
   "outputs": [
    {
     "data": {
      "text/plain": [
       "20.0"
      ]
     },
     "execution_count": 97,
     "metadata": {},
     "output_type": "execute_result"
    }
   ],
   "source": [
    "rraa"
   ]
  },
  {
   "cell_type": "code",
   "execution_count": 98,
   "id": "14bdb155-99d8-4392-8933-f2ebb8c5276a",
   "metadata": {},
   "outputs": [
    {
     "data": {
      "text/plain": [
       "(28, 1, 10)"
      ]
     },
     "execution_count": 98,
     "metadata": {},
     "output_type": "execute_result"
    }
   ],
   "source": [
    "ii, jj, kk"
   ]
  },
  {
   "cell_type": "code",
   "execution_count": 99,
   "id": "4b82f64f-565a-4320-ad33-e1bc5bc1e44a",
   "metadata": {},
   "outputs": [
    {
     "name": "stdout",
     "output_type": "stream",
     "text": [
      "-0.28650367391652276\n"
     ]
    }
   ],
   "source": [
    "i, j, k = 19, 18, 6\n",
    "p1 = planes[i]\n",
    "p2 = planes[j]\n",
    "p3 = planes[k]\n",
    "v1 = p2 - p1\n",
    "v2 = p3 - p1\n",
    "abc = np.cross( v1, v2 )\n",
    "abc /= np.sqrt( np.sum(abc**2)  )\n",
    "d = -np.dot( abc, p3)\n",
    "print(d)\n",
    "ss = 0.\n",
    "qsx = np.zeros( 60 )\n",
    "for z in range(60):\n",
    "    #if z in [i,j,k]:\n",
    "    #    continue\n",
    "    #print( d )\n",
    "    if np.abs((np.dot( abc, planes[ z ] ) + d)) < 0.05:\n",
    "        qsx[z] = 1"
   ]
  },
  {
   "cell_type": "code",
   "execution_count": 100,
   "id": "6d1cba01-39fd-469a-8b7c-8f89394305c9",
   "metadata": {},
   "outputs": [
    {
     "data": {
      "text/plain": [
       "array([0., 0., 0., 0., 0., 1., 1., 0., 0., 0., 1., 0., 0., 0., 1., 1., 1.,\n",
       "       0., 1., 1., 0., 1., 1., 1., 1., 1., 0., 1., 0., 0., 0., 0., 0., 1.,\n",
       "       0., 0., 0., 0., 0., 0., 0., 0., 0., 0., 0., 0., 0., 0., 0., 0., 0.,\n",
       "       0., 0., 0., 0., 1., 0., 0., 0., 0.])"
      ]
     },
     "execution_count": 100,
     "metadata": {},
     "output_type": "execute_result"
    }
   ],
   "source": [
    "qsx"
   ]
  },
  {
   "cell_type": "code",
   "execution_count": 101,
   "id": "5d1a4fe6-2e06-4d2b-b2b7-32139d0e92e0",
   "metadata": {},
   "outputs": [
    {
     "data": {
      "text/plain": [
       "16.0"
      ]
     },
     "execution_count": 101,
     "metadata": {},
     "output_type": "execute_result"
    }
   ],
   "source": [
    "np.sum(qsx)"
   ]
  },
  {
   "cell_type": "code",
   "execution_count": 102,
   "id": "7549fc26-aa2f-4cfc-b939-8825a2374e18",
   "metadata": {},
   "outputs": [],
   "source": [
    "qsx = np.array( qsx  )"
   ]
  },
  {
   "cell_type": "code",
   "execution_count": 103,
   "id": "09dff053-40b5-44a2-a832-60ec4d1afdbb",
   "metadata": {},
   "outputs": [],
   "source": [
    "pn = planes[ qsx == 1]"
   ]
  },
  {
   "cell_type": "code",
   "execution_count": 104,
   "id": "f311902c-07c3-4a1f-ad89-41da12f1bfe5",
   "metadata": {
    "scrolled": true
   },
   "outputs": [
    {
     "data": {
      "image/png": "[encoded data removed]",
      "text/plain": [
       "<Figure size 640x480 with 1 Axes>"
      ]
     },
     "metadata": {},
     "output_type": "display_data"
    }
   ],
   "source": [
    "fig = plt.figure()\n",
    "ax = fig.add_subplot(111, projection='3d')\n",
    "ax.plot3D( planes[:,0], planes[:,1], planes[:,2], 'b*')\n",
    "ax.plot3D( pn[:,0], pn[:,1], pn[:,2], 'r*')\n",
    "\n",
    "ax.set_xlim3d(-1., 1.2)\n",
    "ax.set_ylim3d(-1., 1.2)\n",
    "ax.set_zlim3d(-1., 1.2);"
   ]
  },
  {
   "cell_type": "markdown",
   "id": "332c182d",
   "metadata": {},
   "source": [
    "<span style=\"color:green\"> \n",
    "    Выделили точки, принадлежащие одной из плоскостей.\n",
    "</span>"
   ]
  },
  {
   "cell_type": "code",
   "execution_count": 105,
   "id": "16387fac-4823-47b6-867d-be1810b92330",
   "metadata": {},
   "outputs": [],
   "source": [
    "%matplotlib inline"
   ]
  }
 ],
 "metadata": {
  "kernelspec": {
   "display_name": "Python 3 (ipykernel)",
   "language": "python",
   "name": "python3"
  },
  "language_info": {
   "codemirror_mode": {
    "name": "ipython",
    "version": 3
   },
   "file_extension": ".py",
   "mimetype": "text/x-python",
   "name": "python",
   "nbconvert_exporter": "python",
   "pygments_lexer": "ipython3",
   "version": "3.9.12"
  }
 },
 "nbformat": 4,
 "nbformat_minor": 5
}
