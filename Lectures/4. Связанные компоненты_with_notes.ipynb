{
 "cells": [
  {
   "cell_type": "markdown",
   "id": "2e99b301-b49b-4ba3-b614-e4cc6bcca8e4",
   "metadata": {},
   "source": [
    "<center>Заметка 4. Связанные компоненты</center>\n",
    "<center>курса <q>Введение в цифровую обработку изображений</q>.</center>\n",
    "<center>Шокуров Антон В.</center>\n",
    "<center>shokurov.anton.v@yandex.ru</center>\n",
    "<center>http://машинноезрение.рф</center>\n",
    "<center>Версия 0.095</center>\n",
    "\n",
    "<center>Аннотация</center>\n",
    "<p>\n",
    "...\n",
    "</p>\n",
    "\n",
    "<p>Это предварительная версия! Любые замечания приветствуются.</p>"
   ]
  },
  {
   "cell_type": "code",
   "execution_count": 1,
   "id": "63de21ea-cbc9-4a88-bc60-97360358e956",
   "metadata": {},
   "outputs": [
    {
     "ename": "ModuleNotFoundError",
     "evalue": "No module named 'matplotlib'",
     "output_type": "error",
     "traceback": [
      "\u001b[1;31m---------------------------------------------------------------------------\u001b[0m",
      "\u001b[1;31mModuleNotFoundError\u001b[0m                       Traceback (most recent call last)",
      "Cell \u001b[1;32mIn[1], line 3\u001b[0m\n\u001b[0;32m      1\u001b[0m \u001b[38;5;28;01mimport\u001b[39;00m \u001b[38;5;21;01mcv2\u001b[39;00m \u001b[38;5;28;01mas\u001b[39;00m \u001b[38;5;21;01mcv\u001b[39;00m\n\u001b[0;32m      2\u001b[0m \u001b[38;5;28;01mimport\u001b[39;00m \u001b[38;5;21;01mnumpy\u001b[39;00m \u001b[38;5;28;01mas\u001b[39;00m \u001b[38;5;21;01mnp\u001b[39;00m\n\u001b[1;32m----> 3\u001b[0m \u001b[38;5;28;01mimport\u001b[39;00m \u001b[38;5;21;01mmatplotlib\u001b[39;00m\u001b[38;5;21;01m.\u001b[39;00m\u001b[38;5;21;01mpyplot\u001b[39;00m \u001b[38;5;28;01mas\u001b[39;00m \u001b[38;5;21;01mplt\u001b[39;00m\n",
      "\u001b[1;31mModuleNotFoundError\u001b[0m: No module named 'matplotlib'"
     ]
    }
   ],
   "source": [
    "import cv2 as cv\n",
    "import numpy as np\n",
    "import matplotlib.pyplot as plt"
   ]
  },
  {
   "cell_type": "markdown",
   "id": "f61d2246-5d54-483c-a3c5-cbfcbecca507",
   "metadata": {},
   "source": [
    "<b>Бинарное изображение</b>"
   ]
  },
  {
   "cell_type": "markdown",
   "id": "52f7db02-2031-4068-9379-f3c77267ddf0",
   "metadata": {},
   "source": [
    "Операторы применяются к бинарным изображениям, т.е. к изображениям из лжи (0) или истины (1).\n",
    "В них 0 является фоном, а 1 обозначают объект, который мы пытаемся выделить.\n",
    "\n",
    "Два соседних (по вертикали или по горизонтали) пикселя, в которых значения равны 1, лежат в одной компоненте связности. Рекурсивно можем вывести определение связанной компоненты:\n",
    "\n",
    "Если любые 2 точки объекта можно соединить путём из горизонтальных или вертикальных отрезков, то эта компонента связна.\n",
    "\n",
    "Бинарные изображения можно задавать как целочисленным типом, так и с плавающей запятой."
   ]
  },
  {
   "cell_type": "code",
   "execution_count": 2,
   "id": "7907beb8-b4ce-486a-9f4b-6473498bf26a",
   "metadata": {},
   "outputs": [
    {
     "data": {
      "text/plain": [
       "dtype('float64')"
      ]
     },
     "execution_count": 2,
     "metadata": {},
     "output_type": "execute_result"
    }
   ],
   "source": [
    "# Создаем изображение из плавающих чисел.\n",
    "img_bin = np.zeros((100,100))\n",
    "img_bin.dtype"
   ]
  },
  {
   "cell_type": "markdown",
   "id": "bb17e8d5-59ff-46ce-b94b-0857c86ebcdc",
   "metadata": {},
   "source": [
    "Часть материала будет работать с изображениями, в которых применяется правило\n",
    "\"истина - это любое ненулевое значение\", а часть - нет.\n",
    "Поэтому,\n",
    "лучше придерживатся правила,\n",
    "что истина - это 1.0."
   ]
  },
  {
   "cell_type": "code",
   "execution_count": 3,
   "id": "3965606e-b06e-4111-8d04-0129c778b726",
   "metadata": {},
   "outputs": [],
   "source": [
    "# Нарисуем два круга.\n",
    "cv.circle( img_bin, (30, 60), 13, 1.0, -1);\n",
    "cv.circle( img_bin, (80, 20), 10, 1.0, -1);"
   ]
  },
  {
   "cell_type": "code",
   "execution_count": 4,
   "id": "67260e5b-dfe4-40a2-96e2-67a56f120247",
   "metadata": {},
   "outputs": [
    {
     "data": {
      "image/png": "[encoded data removed]",
      "text/plain": [
       "<Figure size 432x288 with 1 Axes>"
      ]
     },
     "metadata": {
      "needs_background": "light"
     },
     "output_type": "display_data"
    }
   ],
   "source": [
    "plt.imshow( img_bin, interpolation = 'none' );"
   ]
  },
  {
   "cell_type": "code",
   "execution_count": 5,
   "id": "055d6667-7901-4cd6-bfa1-48a87625408c",
   "metadata": {},
   "outputs": [],
   "source": [
    "# Можно вывести и через OpenCV\n",
    "#cv.imshow( \"bin\", img_bin )\n",
    "#cv.waitKey(0) # Для завершения нажимаем q.\n",
    "#cv.destroyWindow('bin')"
   ]
  },
  {
   "cell_type": "markdown",
   "id": "b906ebd7-e915-40c2-b7e4-2dc7edbcccdc",
   "metadata": {},
   "source": [
    "По аналогии можно сделать и целочисленный массив.\n",
    "Обычно целочисленная арифметика на компьютере быстрее выполняется.\n",
    "Поэтому, лучше использовать 8 битные целые числа.\n",
    "Более того, числа должны быть неотрицательными."
   ]
  },
  {
   "cell_type": "code",
   "execution_count": 6,
   "id": "922b9a77-8acf-4102-9d21-9a45e955c9da",
   "metadata": {},
   "outputs": [
    {
     "data": {
      "text/plain": [
       "dtype('uint8')"
      ]
     },
     "execution_count": 6,
     "metadata": {},
     "output_type": "execute_result"
    }
   ],
   "source": [
    "# Создаем изображение из 8-битных неотрицательных целых чисел.\n",
    "img_bin = np.zeros((100,100), 'uint8')\n",
    "img_bin.dtype"
   ]
  },
  {
   "cell_type": "markdown",
   "id": "b332fa79-6ba2-40b9-9b18-56835964a533",
   "metadata": {},
   "source": [
    "Одна из схем заключается в выставлении максимально возможного значения, т.е. 255 для 8-битных чисел."
   ]
  },
  {
   "cell_type": "code",
   "execution_count": 7,
   "id": "aac8c07a-1e94-4e74-9671-8383146c8955",
   "metadata": {},
   "outputs": [],
   "source": [
    "cv.circle( img_bin, (30, 60), 13, 255, -1);\n",
    "cv.circle( img_bin, (80, 20), 10, 255, -1);"
   ]
  },
  {
   "cell_type": "code",
   "execution_count": 8,
   "id": "c1509733-b03a-4245-852e-8839175e9ff3",
   "metadata": {},
   "outputs": [
    {
     "data": {
      "image/png": "[encoded data removed]",
      "text/plain": [
       "<Figure size 432x288 with 1 Axes>"
      ]
     },
     "metadata": {
      "needs_background": "light"
     },
     "output_type": "display_data"
    }
   ],
   "source": [
    "plt.imshow( img_bin, interpolation = 'none' );"
   ]
  },
  {
   "cell_type": "markdown",
   "id": "1420fe01-d417-43e9-a58f-82170be78ffe",
   "metadata": {},
   "source": [
    "По другой, что лучше по аналогии использовать значение 1."
   ]
  },
  {
   "cell_type": "code",
   "execution_count": 9,
   "id": "3ade847e-9efc-4aca-b165-1d63ac65ad83",
   "metadata": {},
   "outputs": [],
   "source": [
    "img_bin = np.zeros((100,100), 'uint8')\n",
    "cv.circle( img_bin, (30, 60), 13, 1, -1);\n",
    "cv.circle( img_bin, (80, 20), 10, 1, -1);"
   ]
  },
  {
   "cell_type": "code",
   "execution_count": 10,
   "id": "5e2e922e-7e40-4e72-b8e5-9cffc7f58218",
   "metadata": {},
   "outputs": [
    {
     "data": {
      "image/png": "[encoded data removed]",
      "text/plain": [
       "<Figure size 432x288 with 1 Axes>"
      ]
     },
     "metadata": {
      "needs_background": "light"
     },
     "output_type": "display_data"
    }
   ],
   "source": [
    "plt.imshow( img_bin, interpolation = 'none' );"
   ]
  },
  {
   "cell_type": "markdown",
   "id": "44a71ec8-e936-447c-ae0c-6f10e8590b27",
   "metadata": {},
   "source": [
    "<b>Формируем тестовое изображение</b>"
   ]
  },
  {
   "cell_type": "markdown",
   "id": "06de4cb9-96bc-493c-9580-54ffbfaeb3d4",
   "metadata": {},
   "source": [
    "Морфологические операторы используются для топологической модификации бинарных изображений.\n",
    "Для того, чтобы показать суть, создадим пример тестового изображения."
   ]
  },
  {
   "cell_type": "code",
   "execution_count": 11,
   "id": "b1031df5-36c1-4915-afd6-35638202d77e",
   "metadata": {},
   "outputs": [
    {
     "data": {
      "text/plain": [
       "dtype('uint8')"
      ]
     },
     "execution_count": 11,
     "metadata": {},
     "output_type": "execute_result"
    }
   ],
   "source": [
    "# Создаем изображение из целых чисел.\n",
    "img_bin = np.zeros((200,200), 'uint8')\n",
    "img_bin.dtype"
   ]
  },
  {
   "cell_type": "code",
   "execution_count": 12,
   "id": "d6af1100-bfbd-4388-b8fd-0706dd6b348e",
   "metadata": {},
   "outputs": [],
   "source": [
    "# Рисуем круги.\n",
    "# Указывается изображение,\n",
    "# Центр изображения, радиус,\n",
    "# цвет (в случае бинарного изображения, соответственно, 1 или 0)\n",
    "# толщину линии, -1 означает заполнить.\n",
    "cv.circle( img_bin, (50, 60), 15, 1, -1);\n",
    "cv.circle( img_bin, (150, 160), 13, 1, -1);\n",
    "cv.circle( img_bin, (50, 180), 11, 1, -1);"
   ]
  },
  {
   "cell_type": "code",
   "execution_count": 13,
   "id": "4d10fb6e-dbbb-408e-a52d-2a633c4fe062",
   "metadata": {},
   "outputs": [
    {
     "data": {
      "image/png": "[encoded data removed]",
      "text/plain": [
       "<Figure size 432x288 with 1 Axes>"
      ]
     },
     "metadata": {
      "needs_background": "light"
     },
     "output_type": "display_data"
    }
   ],
   "source": [
    "plt.imshow( img_bin, interpolation = 'none' );"
   ]
  },
  {
   "cell_type": "code",
   "execution_count": 14,
   "id": "88dfdb66-de37-48a7-8b31-e65d87f1c53f",
   "metadata": {},
   "outputs": [],
   "source": [
    "# Отрисовываем прямоугольник.\n",
    "# Указывается изображение,\n",
    "# Координаты противоположных уголов,\n",
    "# цвет и толщику линии.\n",
    "cv.rectangle( img_bin, (100, 50), (140, 30), 1, -1);"
   ]
  },
  {
   "cell_type": "code",
   "execution_count": 15,
   "id": "143f6377-7815-4de7-a7aa-98d74773ad92",
   "metadata": {},
   "outputs": [
    {
     "data": {
      "image/png": "[encoded data removed]",
      "text/plain": [
       "<Figure size 432x288 with 1 Axes>"
      ]
     },
     "metadata": {
      "needs_background": "light"
     },
     "output_type": "display_data"
    }
   ],
   "source": [
    "plt.imshow( img_bin, interpolation = 'none' );"
   ]
  },
  {
   "cell_type": "markdown",
   "id": "4e739fd0-0bc3-45e5-927d-a15ec7d6599e",
   "metadata": {},
   "source": [
    "Получаем 4 связанные компоненты на изображении.\n",
    "\n",
    "Это изображение \"идеально\". В реальных практических задачах изображения выглядят иначе. Далее, испортим это изображение, добавив шум"
   ]
  },
  {
   "cell_type": "code",
   "execution_count": 16,
   "id": "06603bff-f16c-4806-b311-72bfa36e02dc",
   "metadata": {},
   "outputs": [
    {
     "data": {
      "text/plain": [
       "((200, 200), dtype('uint8'))"
      ]
     },
     "execution_count": 16,
     "metadata": {},
     "output_type": "execute_result"
    }
   ],
   "source": [
    "img_bin.shape, img_bin.dtype"
   ]
  },
  {
   "cell_type": "code",
   "execution_count": 17,
   "id": "5c1ad637-eadc-4b42-8c5a-ccf36c965e7a",
   "metadata": {},
   "outputs": [
    {
     "data": {
      "text/plain": [
       "(0, 1)"
      ]
     },
     "execution_count": 17,
     "metadata": {},
     "output_type": "execute_result"
    }
   ],
   "source": [
    "np.min(img_bin), np.max(img_bin)"
   ]
  },
  {
   "cell_type": "code",
   "execution_count": 18,
   "id": "82705f6f-fb09-428a-b57b-b263db0696c6",
   "metadata": {},
   "outputs": [],
   "source": [
    "np.save(\"./img_bin.npy\", img_bin)"
   ]
  },
  {
   "cell_type": "code",
   "execution_count": 19,
   "id": "4b88cf2f-0842-41d9-b3ae-2957942e0c3d",
   "metadata": {},
   "outputs": [],
   "source": [
    "#_img_bin_ = np.load(\"./img_bin.npy\")\n",
    "#_img_bin_.shape, _img_bin_.dtype"
   ]
  },
  {
   "cell_type": "code",
   "execution_count": 20,
   "id": "850f8d9c-6736-4586-bf27-dd985101775a",
   "metadata": {},
   "outputs": [],
   "source": [
    "#np.alltrue ( _img_bin_ == img_bin )"
   ]
  },
  {
   "cell_type": "markdown",
   "id": "4f29c495-3f40-461a-a509-6289bb66182d",
   "metadata": {},
   "source": [
    "<b>Добавим шум соль</b>"
   ]
  },
  {
   "cell_type": "code",
   "execution_count": 21,
   "id": "504ded1e-f7dd-4603-9642-94860d3e0eb4",
   "metadata": {},
   "outputs": [],
   "source": [
    "# Для точной повторяемости некоторых из результатов.\n",
    "# для совместимости: np.random.seed(2021)\n",
    "rng = np.random.default_rng(2021)"
   ]
  },
  {
   "cell_type": "code",
   "execution_count": 22,
   "id": "5e074e76-0a4c-4005-a2e1-9bc944501035",
   "metadata": {},
   "outputs": [
    {
     "data": {
      "text/plain": [
       "-0.06886119500819549"
      ]
     },
     "execution_count": 22,
     "metadata": {},
     "output_type": "execute_result"
    }
   ],
   "source": [
    "#rng?\n",
    "rng.standard_normal()\n",
    "# Должно быть -0.06886119500819549"
   ]
  },
  {
   "cell_type": "markdown",
   "id": "34c3d792-aa8c-4c0c-a6af-219b1122ca6b",
   "metadata": {},
   "source": [
    "Шум соль - это случайный набор белых пикселов, а шум перец - черных.\n",
    "Такой шум, например, присущ датчикам изображения."
   ]
  },
  {
   "cell_type": "code",
   "execution_count": 23,
   "id": "20988651-4986-4579-90ca-f4f5fa218b0e",
   "metadata": {},
   "outputs": [
    {
     "data": {
      "text/plain": [
       "array([2, 4, 3, 2, 2, 1, 3, 3, 2, 0])"
      ]
     },
     "execution_count": 23,
     "metadata": {},
     "output_type": "execute_result"
    }
   ],
   "source": [
    "# Функция генерации равномерных случайных целых чисел\n",
    "# от 0 до 5 не включительно в количестве 10 штук.\n",
    "rng.integers(0, 5, 10) # randint"
   ]
  },
  {
   "cell_type": "code",
   "execution_count": 24,
   "id": "0f7dca53-7cd6-4da1-8b8f-1f03a85ba4d9",
   "metadata": {},
   "outputs": [
    {
     "data": {
      "text/plain": [
       "[200, 200]"
      ]
     },
     "execution_count": 24,
     "metadata": {},
     "output_type": "execute_result"
    }
   ],
   "source": [
    "# Цикл по двум размерностям изображения.\n",
    "[i for i in img_bin.shape]"
   ]
  },
  {
   "cell_type": "markdown",
   "id": "f7808e6e-5166-43bc-87d1-131e96ab4cad",
   "metadata": {},
   "source": [
    "Сгенерируем 500 случайных точек (500 случайных чисел для х координаты и 500 - для у координаты)."
   ]
  },
  {
   "cell_type": "code",
   "execution_count": 25,
   "id": "309ce980-9759-4dd3-b7bc-e217937c5c2e",
   "metadata": {},
   "outputs": [],
   "source": [
    "# Для каждой из этих размерностей\n",
    "# сгенерируем случайные целые числа.\n",
    "coords = [rng.integers(0, i, int(500)) for i in img_bin.shape]"
   ]
  },
  {
   "cell_type": "code",
   "execution_count": 26,
   "id": "6e8e8e1c-8b7b-4305-a558-6c360ae7b777",
   "metadata": {},
   "outputs": [
    {
     "data": {
      "text/plain": [
       "2"
      ]
     },
     "execution_count": 26,
     "metadata": {},
     "output_type": "execute_result"
    }
   ],
   "source": [
    "# Два элемента в списке.\n",
    "len( coords )"
   ]
  },
  {
   "cell_type": "code",
   "execution_count": 27,
   "id": "d3049da6-a77e-4bf1-b0b1-a6c923427067",
   "metadata": {},
   "outputs": [
    {
     "data": {
      "text/plain": [
       "(500,)"
      ]
     },
     "execution_count": 27,
     "metadata": {},
     "output_type": "execute_result"
    }
   ],
   "source": [
    "# 500 элементов в каждом из двух списков.\n",
    "coords[0].shape"
   ]
  },
  {
   "cell_type": "code",
   "execution_count": 28,
   "id": "63f02900-c840-4a45-a5ca-eee25565ab78",
   "metadata": {},
   "outputs": [
    {
     "data": {
      "text/plain": [
       "115"
      ]
     },
     "execution_count": 28,
     "metadata": {},
     "output_type": "execute_result"
    }
   ],
   "source": [
    "# Пример случайной координаты.\n",
    "coords[1][300]"
   ]
  },
  {
   "cell_type": "code",
   "execution_count": 29,
   "id": "77641f00-cf88-47ac-b719-c14ec249046c",
   "metadata": {},
   "outputs": [
    {
     "data": {
      "text/plain": [
       "(151, 115)"
      ]
     },
     "execution_count": 29,
     "metadata": {},
     "output_type": "execute_result"
    }
   ],
   "source": [
    "# Слуйчайная точка изображения.\n",
    "coords[0][300], coords[1][300]"
   ]
  },
  {
   "cell_type": "code",
   "execution_count": 30,
   "id": "f127d255-465d-42a6-a6b6-2fe191d36de0",
   "metadata": {},
   "outputs": [
    {
     "data": {
      "text/plain": [
       "(0, 1)"
      ]
     },
     "execution_count": 30,
     "metadata": {},
     "output_type": "execute_result"
    }
   ],
   "source": [
    "img_bin[5,7], img_bin[50,60]"
   ]
  },
  {
   "cell_type": "code",
   "execution_count": 31,
   "id": "1901652c-a9bd-465f-aff8-f978d90966de",
   "metadata": {},
   "outputs": [
    {
     "data": {
      "text/plain": [
       "array([0, 1], dtype=uint8)"
      ]
     },
     "execution_count": 31,
     "metadata": {},
     "output_type": "execute_result"
    }
   ],
   "source": [
    "# Доступ к точкам из списка.\n",
    "img_bin[ ([5,50], [7,60])  ]"
   ]
  },
  {
   "cell_type": "code",
   "execution_count": 32,
   "id": "aeb73553-c1f8-47da-a4df-8e645ccf2cfe",
   "metadata": {},
   "outputs": [],
   "source": [
    "# Делаем копию изображения.\n",
    "img_salt = img_bin.copy()"
   ]
  },
  {
   "cell_type": "code",
   "execution_count": 33,
   "id": "a94e19d4-7662-4355-bca6-c48214845c41",
   "metadata": {},
   "outputs": [],
   "source": [
    "# Присвоение значения 1 сгенерированным случайным точкам.\n",
    "img_salt[tuple(coords)] = 1"
   ]
  },
  {
   "cell_type": "markdown",
   "id": "ca898f43-a8fd-446d-848b-2b976f81e812",
   "metadata": {},
   "source": [
    "Т.к. 1 обозначают белый цвет, то получается изображение с шумом соль. Здесь шум рапределен равномерно вдоль каждой оси, мы не отслеживаем, попала ли точка внутрь какой либо фигуры. Таким образом, реально шумовых точек не 500, а меньше.\n",
    "\n",
    "Такое изображение более близко к реальному. В дальнейшем будет лекция, которая посвящена устранению такого шума."
   ]
  },
  {
   "cell_type": "code",
   "execution_count": 34,
   "id": "667d6b06-8dad-401d-b442-4abbae550e72",
   "metadata": {},
   "outputs": [
    {
     "data": {
      "image/png": "[encoded data removed]",
      "text/plain": [
       "<Figure size 432x288 with 1 Axes>"
      ]
     },
     "metadata": {
      "needs_background": "light"
     },
     "output_type": "display_data"
    }
   ],
   "source": [
    "plt.imshow( img_salt, interpolation = 'none' );"
   ]
  },
  {
   "cell_type": "code",
   "execution_count": null,
   "id": "2cbd39df-bd7c-47f8-9618-b455099b3a25",
   "metadata": {},
   "outputs": [],
   "source": []
  },
  {
   "cell_type": "code",
   "execution_count": 35,
   "id": "75e5c979-4721-49e4-989a-6cc37878c65b",
   "metadata": {},
   "outputs": [
    {
     "data": {
      "text/plain": [
       "((200, 200), dtype('uint8'))"
      ]
     },
     "execution_count": 35,
     "metadata": {},
     "output_type": "execute_result"
    }
   ],
   "source": [
    "img_salt.shape, img_salt.dtype"
   ]
  },
  {
   "cell_type": "code",
   "execution_count": 36,
   "id": "a861cdc5-deee-4df1-b038-c96e30dbdc12",
   "metadata": {},
   "outputs": [
    {
     "data": {
      "text/plain": [
       "(0, 1)"
      ]
     },
     "execution_count": 36,
     "metadata": {},
     "output_type": "execute_result"
    }
   ],
   "source": [
    "np.min(img_salt), np.max(img_salt)"
   ]
  },
  {
   "cell_type": "code",
   "execution_count": 37,
   "id": "66a765c0-bed9-4ea7-864c-cec0db8d9cb3",
   "metadata": {},
   "outputs": [],
   "source": [
    "np.save(\"./img_salt.npy\", img_salt)"
   ]
  },
  {
   "cell_type": "code",
   "execution_count": 38,
   "id": "b98d7090-c1c3-4864-b34b-517a7b3be9b8",
   "metadata": {},
   "outputs": [],
   "source": [
    "#_img_salt_ = np.load(\"./img_salt.npy\")\n",
    "#_img_salt_.shape, _img_salt_.dtype"
   ]
  },
  {
   "cell_type": "code",
   "execution_count": 39,
   "id": "fb5c4a21-9229-4849-bb4b-3c88d72e1af7",
   "metadata": {},
   "outputs": [],
   "source": [
    "#np.alltrue ( _img_salt_ == img_salt )"
   ]
  },
  {
   "cell_type": "code",
   "execution_count": null,
   "id": "421292bf-7732-4887-bb7f-f4b57681c355",
   "metadata": {},
   "outputs": [],
   "source": []
  },
  {
   "cell_type": "markdown",
   "id": "a4ec806f-0d38-46cf-b6b7-e3da13e99d0f",
   "metadata": {},
   "source": [
    "Аналогично можно сгенерировать шум из черных точек - шум перец.\n",
    "\n",
    "Возьмем точки, сгенерированные ранее, и присваиваем им значение 0."
   ]
  },
  {
   "cell_type": "code",
   "execution_count": 40,
   "id": "960decc8-fd43-44a1-98c8-06b5a70d2319",
   "metadata": {},
   "outputs": [],
   "source": [
    "img_pepper = img_salt.copy()"
   ]
  },
  {
   "cell_type": "code",
   "execution_count": 41,
   "id": "5d0fe385-42fd-4f0f-b50c-90f9060bede2",
   "metadata": {},
   "outputs": [],
   "source": [
    "# Шум перец.\n",
    "img_pepper[tuple(coords)] = 0"
   ]
  },
  {
   "cell_type": "code",
   "execution_count": 44,
   "id": "b18c62d9-e1ad-4ef6-845a-506df362505f",
   "metadata": {},
   "outputs": [
    {
     "data": {
      "text/plain": [
       "<matplotlib.image.AxesImage at 0x7f9a72d17b20>"
      ]
     },
     "execution_count": 44,
     "metadata": {},
     "output_type": "execute_result"
    },
    {
     "data": {
      "image/png": "[encoded data removed]",
      "text/plain": [
       "<Figure size 432x288 with 1 Axes>"
      ]
     },
     "metadata": {
      "needs_background": "light"
     },
     "output_type": "display_data"
    }
   ],
   "source": [
    "plt.imshow( img_pepper)#, interpolation = 'none' )"
   ]
  },
  {
   "cell_type": "code",
   "execution_count": 45,
   "id": "746bcb71-f09e-451b-a70b-58c079d01565",
   "metadata": {},
   "outputs": [],
   "source": [
    "np.save(\"./img_pepper.npy\", img_pepper)"
   ]
  },
  {
   "cell_type": "code",
   "execution_count": null,
   "id": "bcfc4093-73f5-4b9f-9c81-876df84e23a3",
   "metadata": {},
   "outputs": [],
   "source": []
  },
  {
   "cell_type": "markdown",
   "id": "281137d4-ae5a-4fba-a084-257c179d65c2",
   "metadata": {},
   "source": [
    "В нашем изображении значения могут быть только 0 или 1. Промежуточных значений быть не может."
   ]
  },
  {
   "cell_type": "code",
   "execution_count": 46,
   "id": "c8c2830a-6b93-4026-88e5-e6d27fe79e54",
   "metadata": {},
   "outputs": [
    {
     "data": {
      "text/plain": [
       "array([0, 1], dtype=uint8)"
      ]
     },
     "execution_count": 46,
     "metadata": {},
     "output_type": "execute_result"
    }
   ],
   "source": [
    "np.unique( img_salt )"
   ]
  },
  {
   "cell_type": "code",
   "execution_count": 47,
   "id": "eee9aca5-4be0-47ef-b312-91625b582e12",
   "metadata": {},
   "outputs": [
    {
     "data": {
      "text/plain": [
       "0.0125"
      ]
     },
     "execution_count": 47,
     "metadata": {},
     "output_type": "execute_result"
    }
   ],
   "source": [
    "# Вероятность соли:\n",
    "500/(img_bin.shape[0] * img_bin.shape[1])"
   ]
  },
  {
   "cell_type": "markdown",
   "id": "36b2f523-ad21-488f-ada6-f7be1b722deb",
   "metadata": {},
   "source": [
    "Рассмотрим другой способ генерации шума\n",
    "\n",
    "Зададим некое пороговое значение. Далее будем пробегать по всем пикселям изображения. Каждый шаг \"подбрасываем кость\" и проверяем, получилось ли значение выше или ниже порогового. Если выше, то в этом пикселе поставим точку шума."
   ]
  },
  {
   "cell_type": "code",
   "execution_count": 48,
   "id": "03776e4b-2e59-455f-8648-8e3f3a5f71a4",
   "metadata": {},
   "outputs": [
    {
     "data": {
      "text/plain": [
       "0.32589590490085774"
      ]
     },
     "execution_count": 48,
     "metadata": {},
     "output_type": "execute_result"
    }
   ],
   "source": [
    "# Равномерная случайная величина от 0 до 1.\n",
    "rng.random()"
   ]
  },
  {
   "cell_type": "code",
   "execution_count": 49,
   "id": "e901d6a6-9c86-44db-b08b-711ae0f9700d",
   "metadata": {},
   "outputs": [],
   "source": [
    "img_salt2 = img_bin.copy()"
   ]
  },
  {
   "cell_type": "code",
   "execution_count": 50,
   "id": "d213566c-8511-4d8f-8ccf-ec4b261b7b3d",
   "metadata": {},
   "outputs": [],
   "source": [
    "for i in range( img_salt2.shape[0] ):\n",
    "    for j in range( img_salt2.shape[1] ):\n",
    "        v = img_salt2[i,j]\n",
    "        r = rng.random() < 0.0125\n",
    "        if r:\n",
    "            v = 1\n",
    "        img_salt2[i,j] = v"
   ]
  },
  {
   "cell_type": "code",
   "execution_count": 51,
   "id": "8dc1be25-ecb3-4d5d-9f21-a638522e1a40",
   "metadata": {},
   "outputs": [
    {
     "data": {
      "image/png": "[encoded data removed]",
      "text/plain": [
       "<Figure size 432x288 with 1 Axes>"
      ]
     },
     "metadata": {
      "needs_background": "light"
     },
     "output_type": "display_data"
    }
   ],
   "source": [
    "plt.imshow( img_salt2, interpolation = 'none' );"
   ]
  },
  {
   "cell_type": "markdown",
   "id": "022f4f59-21ba-44dd-a9c6-4755dd100efa",
   "metadata": {},
   "source": [
    "В случае, если нужно поставить мало точек шума (например, 10), лучше использовать первый способ. Но если шумовых точек много, то лучше использовать второй способ.\n",
    "\n",
    "Сокращенно, используем \"массивную\" математику, без циклов.\n",
    "\n",
    "Генерируем изображение случайных чисел и проверяем места, где значение меньше 0.0125"
   ]
  },
  {
   "cell_type": "code",
   "execution_count": 52,
   "id": "04899588-851d-4e26-8d78-58527c6eadbc",
   "metadata": {},
   "outputs": [],
   "source": [
    "# Делаем копию тзображения.... мы же будет портить/изменять его.\n",
    "img_salt3 = img_bin.copy()"
   ]
  },
  {
   "cell_type": "code",
   "execution_count": 53,
   "id": "93e3b37f-7bdf-41d9-aed8-2211ecdf3e61",
   "metadata": {},
   "outputs": [],
   "source": [
    "img_salt3 = img_salt3 + ( rng.random( (img_salt2.shape[0], img_salt2.shape[1]) ) < 0.0125 )"
   ]
  },
  {
   "cell_type": "code",
   "execution_count": 54,
   "id": "96680104-5333-487f-8358-239ade119df0",
   "metadata": {},
   "outputs": [
    {
     "data": {
      "image/png": "[encoded data removed]",
      "text/plain": [
       "<Figure size 432x288 with 1 Axes>"
      ]
     },
     "metadata": {
      "needs_background": "light"
     },
     "output_type": "display_data"
    }
   ],
   "source": [
    "# Видим, что у нас теперь три цвета на тзображении.\n",
    "plt.imshow( img_salt3, interpolation = 'none' );\n",
    "# Это потому что при добавлении шума (1) к исходному объекту из 1 будет 2."
   ]
  },
  {
   "cell_type": "code",
   "execution_count": 55,
   "id": "d5b96806-a737-42b4-bb15-e91358c9e6d2",
   "metadata": {},
   "outputs": [],
   "source": [
    "# Для того чтобы убрать лишние/зашкаливающие значения\n",
    "# нужно сделать обрезку.\n",
    "img_salt3 = np.clip( img_salt3, 0, 1) # два последних значения задают нижнюю и верхнюю границу обрезки.\n",
    "# Срезать все лишнее."
   ]
  },
  {
   "cell_type": "code",
   "execution_count": 56,
   "id": "71027d7c-e4c2-4429-a3db-83f53bed090d",
   "metadata": {},
   "outputs": [
    {
     "data": {
      "image/png": "[encoded data removed]",
      "text/plain": [
       "<Figure size 432x288 with 1 Axes>"
      ]
     },
     "metadata": {
      "needs_background": "light"
     },
     "output_type": "display_data"
    }
   ],
   "source": [
    "plt.imshow( img_salt3, interpolation = 'none' );"
   ]
  },
  {
   "cell_type": "markdown",
   "id": "92877278-0b2a-475f-a076-efd9117635ec",
   "metadata": {},
   "source": [
    "<h3>Соприкосание связанных компонент</h3>"
   ]
  },
  {
   "cell_type": "markdown",
   "id": "6752b971-c72f-42d4-85d5-37b353a6a248",
   "metadata": {},
   "source": [
    "Сгенерируем еще одно тестовое изображение. Теперь у каждого объекта есть свой однородный цвет."
   ]
  },
  {
   "cell_type": "code",
   "execution_count": 57,
   "id": "d8be2025-af21-41c5-b31e-98a476536af6",
   "metadata": {},
   "outputs": [
    {
     "data": {
      "image/png": "[encoded data removed]",
      "text/plain": [
       "<Figure size 432x288 with 1 Axes>"
      ]
     },
     "metadata": {
      "needs_background": "light"
     },
     "output_type": "display_data"
    }
   ],
   "source": [
    "# Нарисуем круги так, чтобы они соприкосались.\n",
    "img_touch_rgb = np.zeros((100,100), 'uint8')\n",
    "cv.circle( img_touch_rgb, (30, 28), 25, 1, -1);\n",
    "cv.circle( img_touch_rgb, (50, 70), 22, 2, -1);\n",
    "cv.circle( img_touch_rgb, (69, 38), 16, 3, -1);\n",
    "plt.imshow( img_touch_rgb, interpolation = 'none' );"
   ]
  },
  {
   "cell_type": "markdown",
   "id": "cde8b870-85fe-4b93-a39b-4f0107b0cbcf",
   "metadata": {},
   "source": [
    "Формально это одна компонента (цвет мы игнорируем). Допустим, исходя из предыдущих вычислений пороговой функции, данные так разбились.\n",
    "Нужно их отделить друг от друга."
   ]
  },
  {
   "cell_type": "code",
   "execution_count": 58,
   "id": "d65d23b5-ebcc-480d-b139-fb2d643e680d",
   "metadata": {},
   "outputs": [],
   "source": [
    "np.save(\"./img_touch_rgb.npy\", img_touch_rgb)"
   ]
  },
  {
   "cell_type": "markdown",
   "id": "0a7ba6c3-d9f5-4a0a-b288-cfaff39a3ab0",
   "metadata": {},
   "source": [
    "<b>Связанные компоненты</b>"
   ]
  },
  {
   "cell_type": "markdown",
   "id": "831b7004-1ba3-4b69-ad6d-71c9ae996cec",
   "metadata": {},
   "source": [
    "При обработке изображений с точки зрения морфологии важно в нем выделить связанные компоненты.\n",
    "Они бывают 4 и 8 связанные."
   ]
  },
  {
   "cell_type": "code",
   "execution_count": 59,
   "id": "0440cdf3-d6f1-4e57-bd57-ab46248c9a46",
   "metadata": {},
   "outputs": [
    {
     "data": {
      "text/plain": [
       "array([[0, 1, 2],\n",
       "       [3, 4, 5],\n",
       "       [6, 7, 8]])"
      ]
     },
     "execution_count": 59,
     "metadata": {},
     "output_type": "execute_result"
    }
   ],
   "source": [
    "np.array([\n",
    "    [0, 1, 2],\n",
    "    [3, 4, 5],\n",
    "    [6, 7, 8]\n",
    "])"
   ]
  },
  {
   "cell_type": "markdown",
   "id": "72df2e55-e2c4-4a43-a342-773bc7c83ebc",
   "metadata": {},
   "source": [
    "4 связанные -- имеют общую сторону с центральным (4) пикселем, т.е. 1, 3, 5 и 7.\n",
    "8 связанные -- это 4 связанные, а также имеющие общий угол: 0, 2, 6 и 8."
   ]
  },
  {
   "cell_type": "code",
   "execution_count": 60,
   "id": "aa9f3960-4ea8-4a1b-87bd-fe41ec16ea29",
   "metadata": {},
   "outputs": [
    {
     "data": {
      "text/plain": [
       "dtype('uint8')"
      ]
     },
     "execution_count": 60,
     "metadata": {},
     "output_type": "execute_result"
    }
   ],
   "source": [
    "img_components = np.zeros((200,200), 'uint8')\n",
    "img_components.dtype"
   ]
  },
  {
   "cell_type": "code",
   "execution_count": 62,
   "id": "30574efa-7eca-415b-974e-9445af4e9dee",
   "metadata": {},
   "outputs": [
    {
     "data": {
      "image/png": "[encoded data removed]",
      "text/plain": [
       "<Figure size 432x288 with 1 Axes>"
      ]
     },
     "metadata": {
      "needs_background": "light"
     },
     "output_type": "display_data"
    }
   ],
   "source": [
    "cv.circle( img_components, (50, 60), 15, 1, -1);\n",
    "cv.circle( img_components, (150, 160), 13, 2, -1);\n",
    "cv.circle( img_components, (50, 180), 11, 3, -1);\n",
    "cv.rectangle( img_components, (100, 50), (140, 30), 4, -1);\n",
    "plt.imshow( img_components, interpolation = 'none' );"
   ]
  },
  {
   "cell_type": "markdown",
   "id": "b650c0ed-90ce-4893-a0d8-8d8d0d4a718a",
   "metadata": {},
   "source": [
    "Мысль идеологии работы со связными компонентами основана на том, что в идеальном варианте мы отделяем компоненты друг от друга, а далее работаем с каждой из компонент по отдельности. Например, после извлечения связной компоненты мы проверяем, круг это или прямоугольник. \n",
    "Считать сколько их, площадь, периметр... \n",
    "в конце концов и определять компоненту состоящую из определенного количества дырок.\n",
    "\n",
    "Но прежде, чем это сделать, нам нужно отделить компоненты друг от друга."
   ]
  },
  {
   "cell_type": "markdown",
   "id": "baffa001-c068-44ea-9204-18bc008c6a36",
   "metadata": {},
   "source": [
    "На практике можно столкнуться с проблемами:\n",
    "а) наличие шума типа соль/перец.\n",
    "б) компоненты могут касаться."
   ]
  },
  {
   "cell_type": "code",
   "execution_count": null,
   "id": "ab166bbb-f563-4b57-8442-9aaf135b333b",
   "metadata": {},
   "outputs": [],
   "source": []
  },
  {
   "cell_type": "code",
   "execution_count": null,
   "id": "3f9ad2ba-e529-42cf-8a04-251edc8966ad",
   "metadata": {},
   "outputs": [],
   "source": []
  },
  {
   "cell_type": "code",
   "execution_count": 63,
   "id": "ef24b453-a2cc-4a5b-a935-d5e9f8175bfb",
   "metadata": {},
   "outputs": [
    {
     "data": {
      "image/png": "[encoded data removed]",
      "text/plain": [
       "<Figure size 432x288 with 1 Axes>"
      ]
     },
     "metadata": {
      "needs_background": "light"
     },
     "output_type": "display_data"
    }
   ],
   "source": [
    "plt.imshow( img_bin, interpolation = 'none' );"
   ]
  },
  {
   "cell_type": "markdown",
   "id": "9fb8ee3c-9233-45bd-bdd3-34d5b31fbb01",
   "metadata": {},
   "source": [
    "Используем функцию connectedComponents из openCV. Подаём ей идеальное бинарное изображение (без шума), результат записываем в cmpts\n",
    "\n",
    "cmpts[0] содержит количество компонент - в нашем случае, 5 (4 объекта + фон)\n",
    "\n",
    "cmpts[1] представляет собой само изображение, где каждая компонента обозначается своим цветом. С точки зрения математики это означает, что в этой матрице у каждой компоненты своё значение (0, 1, 2, 3, 4)."
   ]
  },
  {
   "cell_type": "code",
   "execution_count": 64,
   "id": "2859a2ce-ab90-4b1a-8701-ee8c26fe2657",
   "metadata": {},
   "outputs": [
    {
     "data": {
      "text/plain": [
       "(2, 5)"
      ]
     },
     "execution_count": 64,
     "metadata": {},
     "output_type": "execute_result"
    }
   ],
   "source": [
    "cmpts = cv.connectedComponents( img_bin )\n",
    "len(cmpts), cmpts[0] # 0 индекс содержит количество компонент."
   ]
  },
  {
   "cell_type": "code",
   "execution_count": 65,
   "id": "ccccff37-77ae-42a8-a7d9-3984974a1908",
   "metadata": {},
   "outputs": [
    {
     "data": {
      "text/plain": [
       "\u001b[0;31mDocstring:\u001b[0m\n",
       "connectedComponents(image[, labels[, connectivity[, ltype]]]) -> retval, labels\n",
       ".   @overload\n",
       ".   \n",
       ".   @param image the 8-bit single-channel image to be labeled\n",
       ".   @param labels destination labeled image\n",
       ".   @param connectivity 8 or 4 for 8-way or 4-way connectivity respectively\n",
       ".   @param ltype output image label type. Currently CV_32S and CV_16U are supported.\n",
       "\u001b[0;31mType:\u001b[0m      builtin_function_or_method\n"
      ]
     },
     "metadata": {},
     "output_type": "display_data"
    }
   ],
   "source": [
    "cv.connectedComponents?"
   ]
  },
  {
   "cell_type": "code",
   "execution_count": 66,
   "id": "d14cb0b2-a2ef-4ec4-a37c-e1559a67bf32",
   "metadata": {},
   "outputs": [
    {
     "data": {
      "text/plain": [
       "5"
      ]
     },
     "execution_count": 66,
     "metadata": {},
     "output_type": "execute_result"
    }
   ],
   "source": [
    "cmpts[0]"
   ]
  },
  {
   "cell_type": "code",
   "execution_count": 67,
   "id": "25bc350a-6043-4c47-838f-f3e4b108d174",
   "metadata": {},
   "outputs": [
    {
     "data": {
      "text/plain": [
       "(200, 200)"
      ]
     },
     "execution_count": 67,
     "metadata": {},
     "output_type": "execute_result"
    }
   ],
   "source": [
    "cmpts[1].shape"
   ]
  },
  {
   "cell_type": "code",
   "execution_count": 68,
   "id": "742bd99a-fa3e-4005-a9b3-9a081991e455",
   "metadata": {},
   "outputs": [
    {
     "data": {
      "image/png": "[encoded data removed]",
      "text/plain": [
       "<Figure size 432x288 with 1 Axes>"
      ]
     },
     "metadata": {
      "needs_background": "light"
     },
     "output_type": "display_data"
    }
   ],
   "source": [
    "plt.imshow(cmpts[1]);"
   ]
  },
  {
   "cell_type": "code",
   "execution_count": 69,
   "id": "13745ce4-319d-4308-b30c-5d41364fbe6f",
   "metadata": {},
   "outputs": [
    {
     "data": {
      "text/plain": [
       "array([0, 1, 2, 3, 4], dtype=int32)"
      ]
     },
     "execution_count": 69,
     "metadata": {},
     "output_type": "execute_result"
    }
   ],
   "source": [
    "np.unique( cmpts[1] )"
   ]
  },
  {
   "cell_type": "markdown",
   "id": "78241e9c-d358-45a6-a1dd-f4f1323b23d7",
   "metadata": {},
   "source": [
    "Для выделения конкретной компоненты в изображении достаточно сравнить аргумент, полученный с помощью cmpts[1], с номером искомой компоненты. Тогда мы получим изображение, которое содержит только этот объект."
   ]
  },
  {
   "cell_type": "code",
   "execution_count": 70,
   "id": "c3574787-580f-40ee-ba7c-22b480aa3f4f",
   "metadata": {},
   "outputs": [
    {
     "data": {
      "image/png": "[encoded data removed]",
      "text/plain": [
       "<Figure size 432x288 with 1 Axes>"
      ]
     },
     "metadata": {
      "needs_background": "light"
     },
     "output_type": "display_data"
    }
   ],
   "source": [
    "plt.imshow(cmpts[1]==1);"
   ]
  },
  {
   "cell_type": "code",
   "execution_count": 71,
   "id": "0652553b-2319-437d-9fe6-84f6e774e009",
   "metadata": {},
   "outputs": [
    {
     "data": {
      "image/png": "[encoded data removed]",
      "text/plain": [
       "<Figure size 432x288 with 1 Axes>"
      ]
     },
     "metadata": {
      "needs_background": "light"
     },
     "output_type": "display_data"
    }
   ],
   "source": [
    "plt.imshow(cmpts[1]==3);"
   ]
  },
  {
   "cell_type": "code",
   "execution_count": 72,
   "id": "2065047d-acf9-4667-893e-cba029de0b48",
   "metadata": {},
   "outputs": [
    {
     "data": {
      "text/plain": [
       "(4, 5)"
      ]
     },
     "execution_count": 72,
     "metadata": {},
     "output_type": "execute_result"
    }
   ],
   "source": [
    "cmptsStats = cv.connectedComponentsWithStats( img_bin )\n",
    "len(cmptsStats), cmptsStats[0] # 0 индекс содержит количество компонент."
   ]
  },
  {
   "cell_type": "code",
   "execution_count": 73,
   "id": "3c700bdb-3a5c-47a6-b006-9a01827f26f6",
   "metadata": {},
   "outputs": [
    {
     "data": {
      "text/plain": [
       "(5, (200, 200))"
      ]
     },
     "execution_count": 73,
     "metadata": {},
     "output_type": "execute_result"
    }
   ],
   "source": [
    "cmptsStats[0], cmptsStats[1].shape"
   ]
  },
  {
   "cell_type": "code",
   "execution_count": 74,
   "id": "5d43f81d-9064-462b-aa21-954bd2d2f99d",
   "metadata": {},
   "outputs": [
    {
     "data": {
      "text/plain": [
       "array([[    0,     0,   200,   200, 37524],\n",
       "       [  100,    30,    41,    21,   861],\n",
       "       [   35,    45,    31,    31,   709],\n",
       "       [  137,   147,    27,    27,   529],\n",
       "       [   39,   169,    23,    23,   377]], dtype=int32)"
      ]
     },
     "execution_count": 74,
     "metadata": {},
     "output_type": "execute_result"
    }
   ],
   "source": [
    "cmptsStats[2]\n",
    "# левый, верхний, ширина и высота... площадь"
   ]
  },
  {
   "cell_type": "code",
   "execution_count": 75,
   "id": "37377e1d-8b1b-4d0b-b63c-6dcfadc50456",
   "metadata": {},
   "outputs": [
    {
     "data": {
      "text/plain": [
       "array([[ 99.75029315,  99.94989873],\n",
       "       [120.        ,  40.        ],\n",
       "       [ 50.        ,  60.        ],\n",
       "       [150.        , 160.        ],\n",
       "       [ 50.        , 180.        ]])"
      ]
     },
     "execution_count": 75,
     "metadata": {},
     "output_type": "execute_result"
    }
   ],
   "source": [
    "cmptsStats[3] # центройд"
   ]
  },
  {
   "cell_type": "code",
   "execution_count": 76,
   "id": "c4b8170f-e9ac-4612-b49b-5adc3795ee91",
   "metadata": {},
   "outputs": [
    {
     "data": {
      "image/png": "[encoded data removed]",
      "text/plain": [
       "<Figure size 432x288 with 1 Axes>"
      ]
     },
     "metadata": {
      "needs_background": "light"
     },
     "output_type": "display_data"
    }
   ],
   "source": [
    "plt.imshow(cmpts[1]);\n",
    "for pa in cmptsStats[3]:\n",
    "    plt.plot( *pa, '*' )"
   ]
  },
  {
   "cell_type": "code",
   "execution_count": 77,
   "id": "ae08dbe5-1e74-4a5c-9b87-a3cfadef5bb8",
   "metadata": {},
   "outputs": [],
   "source": [
    "#cv.connectedComponentsWithAlgorithm?"
   ]
  },
  {
   "cell_type": "markdown",
   "id": "4c23fe7b-c384-4d6c-ac61-0c6c227b1f70",
   "metadata": {},
   "source": [
    "Вернемся к зашумленному изображению. Для него функция connectedComponentsWithStats найдет 444 компоненты, так как каждая точка шума будет определяться как отдельная связанная компонента. Очевидно, что чем больше компонент на изображении, тем медленнее работает алгоритм. Необходимо ускорить процесс его работы."
   ]
  },
  {
   "cell_type": "code",
   "execution_count": 78,
   "id": "dd580d9a-d649-4b05-b105-137d73f67a02",
   "metadata": {},
   "outputs": [
    {
     "data": {
      "image/png": "[encoded data removed]",
      "text/plain": [
       "<Figure size 432x288 with 1 Axes>"
      ]
     },
     "metadata": {
      "needs_background": "light"
     },
     "output_type": "display_data"
    }
   ],
   "source": [
    "plt.imshow( img_salt, interpolation='none' );"
   ]
  },
  {
   "cell_type": "code",
   "execution_count": 79,
   "id": "43237403-f244-4922-b564-59b044fa8cad",
   "metadata": {},
   "outputs": [
    {
     "data": {
      "text/plain": [
       "(4, 444)"
      ]
     },
     "execution_count": 79,
     "metadata": {},
     "output_type": "execute_result"
    }
   ],
   "source": [
    "cmptsStats = cv.connectedComponentsWithStats( img_salt )\n",
    "len(cmptsStats), cmptsStats[0] # 0 индекс содержит количество компонент."
   ]
  },
  {
   "cell_type": "code",
   "execution_count": 80,
   "id": "f983e3a7-2dc7-4ca5-a9b1-68a13767c5dc",
   "metadata": {},
   "outputs": [],
   "source": [
    "ll = []\n",
    "for pa in cmptsStats[2]:\n",
    "    ll.append( pa[-1] )"
   ]
  },
  {
   "cell_type": "code",
   "execution_count": 81,
   "id": "865bbca3-780f-4e10-ac92-6dfa8d25ecaa",
   "metadata": {},
   "outputs": [],
   "source": [
    "ll = np.array( ll )"
   ]
  },
  {
   "cell_type": "markdown",
   "id": "cf30ce9b-5f75-4ffc-9e1d-baa94a605ea4",
   "metadata": {},
   "source": [
    "Построим распределение площадей компонент. Хотим отбросить те компоненты, у которых маленькая площадь."
   ]
  },
  {
   "cell_type": "code",
   "execution_count": 82,
   "id": "40e8ca88-1005-45f0-b9bf-6f4a2789ab64",
   "metadata": {},
   "outputs": [
    {
     "data": {
      "text/plain": [
       "(array([443.,   0.,   0.,   0.,   0.,   0.,   0.,   0.,   0.,   1.]),\n",
       " array([1.00000e+00, 3.70630e+03, 7.41160e+03, 1.11169e+04, 1.48222e+04,\n",
       "        1.85275e+04, 2.22328e+04, 2.59381e+04, 2.96434e+04, 3.33487e+04,\n",
       "        3.70540e+04]),\n",
       " <BarContainer object of 10 artists>)"
      ]
     },
     "execution_count": 82,
     "metadata": {},
     "output_type": "execute_result"
    },
    {
     "data": {
      "image/png": "[encoded data removed]",
      "text/plain": [
       "<Figure size 432x288 with 1 Axes>"
      ]
     },
     "metadata": {
      "needs_background": "light"
     },
     "output_type": "display_data"
    }
   ],
   "source": [
    "plt.hist( ll )"
   ]
  },
  {
   "cell_type": "code",
   "execution_count": 83,
   "id": "772a0b0e-b7c5-44ea-87cc-d9ca81483a55",
   "metadata": {},
   "outputs": [
    {
     "data": {
      "image/png": "[encoded data removed]",
      "text/plain": [
       "<Figure size 432x288 with 1 Axes>"
      ]
     },
     "metadata": {
      "needs_background": "light"
     },
     "output_type": "display_data"
    }
   ],
   "source": [
    "plt.imshow(cmptsStats[1]==50, interpolation='none');"
   ]
  },
  {
   "cell_type": "code",
   "execution_count": 84,
   "id": "7d163c71-e37b-4aee-a097-f60f0aa69abf",
   "metadata": {},
   "outputs": [
    {
     "data": {
      "text/plain": [
       "array([1, 1, 1, 1, 1, 1, 1, 1, 1, 1], dtype=int32)"
      ]
     },
     "execution_count": 84,
     "metadata": {},
     "output_type": "execute_result"
    }
   ],
   "source": [
    "ll[20:30]"
   ]
  },
  {
   "cell_type": "markdown",
   "id": "cb33eca2-10e7-4eaa-9b19-053a3a6b9954",
   "metadata": {},
   "source": [
    "Устанавливаем пороговое значение, равное 70. Считаем, что нас интересуют лишь те объекты, площадь которых больше 70. Таких компонент 5 - наши первоначальные объекты."
   ]
  },
  {
   "cell_type": "code",
   "execution_count": 85,
   "id": "87cb6f5d-36e2-45a5-a1ad-c1639803fbbb",
   "metadata": {},
   "outputs": [
    {
     "data": {
      "text/plain": [
       "5"
      ]
     },
     "execution_count": 85,
     "metadata": {},
     "output_type": "execute_result"
    }
   ],
   "source": [
    "sum( ll > 70 )"
   ]
  },
  {
   "cell_type": "code",
   "execution_count": 86,
   "id": "8e17cb56-39a4-462c-b9a7-3e3c233beff0",
   "metadata": {},
   "outputs": [
    {
     "data": {
      "text/plain": [
       "(array([  0,  63,  93, 341, 376]),)"
      ]
     },
     "execution_count": 86,
     "metadata": {},
     "output_type": "execute_result"
    }
   ],
   "source": [
    "np.where(ll > 70)"
   ]
  },
  {
   "cell_type": "code",
   "execution_count": 87,
   "id": "85f3b0cb-abd1-46e4-9d35-f8a3ed58e1e8",
   "metadata": {},
   "outputs": [
    {
     "data": {
      "image/png": "[encoded data removed]",
      "text/plain": [
       "<Figure size 432x288 with 1 Axes>"
      ]
     },
     "metadata": {
      "needs_background": "light"
     },
     "output_type": "display_data"
    }
   ],
   "source": [
    "plt.imshow(cmptsStats[1]==63, interpolation='none');"
   ]
  },
  {
   "cell_type": "code",
   "execution_count": 88,
   "id": "7881ae89-d82d-46ae-aef1-6aba63a9d080",
   "metadata": {},
   "outputs": [
    {
     "data": {
      "image/png": "[encoded data removed]",
      "text/plain": [
       "<Figure size 432x288 with 1 Axes>"
      ]
     },
     "metadata": {
      "needs_background": "light"
     },
     "output_type": "display_data"
    }
   ],
   "source": [
    "plt.imshow(cmptsStats[1]==341, interpolation='none');"
   ]
  },
  {
   "cell_type": "markdown",
   "id": "e40d1ffb-a658-4d7a-b492-328492ba34a8",
   "metadata": {},
   "source": [
    "Таким образом, обработка изображений с шумом соль/перец с помощью функции поиска компонент работает. Однако это возможно лишь благодаря мощности наших компьютеров, а для микроконтроллеров, спутников итд ресурсов не хватит. В следующей лекции будет рассказан более эффективный способ это сделать."
   ]
  },
  {
   "cell_type": "markdown",
   "id": "9265f9bf-cdeb-40fb-a40d-7cdd6135cbb5",
   "metadata": {},
   "source": [
    "<h2>Подсчет фигур с дырками</h>"
   ]
  },
  {
   "cell_type": "markdown",
   "id": "6f0b2df4-8e7f-4656-a64b-674ebb631aab",
   "metadata": {},
   "source": [
    "Перейдем к следующей задаче. Хотим подсчитать количество фигур с дырками. Будем для этого использовать понятие связной компоненты.\n",
    "\n",
    "Идея состоит в следующем: если внутри связанной компоненты есть связанные дырки, то это связанная компонента с дырками. Иными словами, дырка в связанной компоненте должна быть связанным объектом, но она состоит не из единиц, а из нулей."
   ]
  },
  {
   "cell_type": "code",
   "execution_count": 89,
   "id": "db4cd405-d202-4fe7-8888-3c94e530c69f",
   "metadata": {},
   "outputs": [],
   "source": [
    "img_bincp = img_bin.copy()"
   ]
  },
  {
   "cell_type": "code",
   "execution_count": 90,
   "id": "a1775e17-d019-4481-9ddb-eeb59abe0a07",
   "metadata": {},
   "outputs": [],
   "source": [
    "img_bin = img_bincp.copy()"
   ]
  },
  {
   "cell_type": "code",
   "execution_count": 91,
   "id": "5f84d35c-71cb-4a4f-b839-700bdb37e3bf",
   "metadata": {},
   "outputs": [],
   "source": [
    "cv.rectangle( img_bin, (100, 125), (102,127), 1, -1);"
   ]
  },
  {
   "cell_type": "code",
   "execution_count": 92,
   "id": "b27337a1-1c61-4644-8049-c3f1317ca0d4",
   "metadata": {},
   "outputs": [
    {
     "data": {
      "text/plain": [
       "(2, 6)"
      ]
     },
     "execution_count": 92,
     "metadata": {},
     "output_type": "execute_result"
    }
   ],
   "source": [
    "cmpts = cv.connectedComponents( img_bin )\n",
    "len(cmpts), cmpts[0] # 0 индекс содержит количество компонент."
   ]
  },
  {
   "cell_type": "code",
   "execution_count": 93,
   "id": "3187f87f-b233-4a20-b093-cb666fd765f8",
   "metadata": {},
   "outputs": [
    {
     "data": {
      "text/plain": [
       "array([[0, 0, 0, ..., 0, 0, 0],\n",
       "       [0, 0, 0, ..., 0, 0, 0],\n",
       "       [0, 0, 0, ..., 0, 0, 0],\n",
       "       ...,\n",
       "       [0, 0, 0, ..., 0, 0, 0],\n",
       "       [0, 0, 0, ..., 0, 0, 0],\n",
       "       [0, 0, 0, ..., 0, 0, 0]], dtype=int32)"
      ]
     },
     "execution_count": 93,
     "metadata": {},
     "output_type": "execute_result"
    }
   ],
   "source": [
    "cmpts[1] # сами маски."
   ]
  },
  {
   "cell_type": "code",
   "execution_count": 94,
   "id": "74cfb268-4ec8-41f0-b4ea-2475a2af75ce",
   "metadata": {},
   "outputs": [
    {
     "data": {
      "image/png": "[encoded data removed]",
      "text/plain": [
       "<Figure size 432x288 with 1 Axes>"
      ]
     },
     "metadata": {
      "needs_background": "light"
     },
     "output_type": "display_data"
    }
   ],
   "source": [
    "plt.imshow( cmpts[1], interpolation = 'none'  );"
   ]
  },
  {
   "cell_type": "markdown",
   "id": "9f8aa096-c6b9-484a-8c94-0bbee1562377",
   "metadata": {},
   "source": [
    "Сделаем две дырки в одном из кругов."
   ]
  },
  {
   "cell_type": "code",
   "execution_count": 95,
   "id": "2e117ec4-7950-4bbd-9c8d-e57e660b9a69",
   "metadata": {},
   "outputs": [],
   "source": [
    "cv.circle( img_bin, (48, 176), 3, 0, -1);\n",
    "cv.circle( img_bin, (48, 184), 3, 0, -1);"
   ]
  },
  {
   "cell_type": "code",
   "execution_count": 96,
   "id": "caba1b76-3fa9-437a-817f-29cf8c5cdd5f",
   "metadata": {},
   "outputs": [
    {
     "data": {
      "image/png": "[encoded data removed]",
      "text/plain": [
       "<Figure size 432x288 with 1 Axes>"
      ]
     },
     "metadata": {
      "needs_background": "light"
     },
     "output_type": "display_data"
    }
   ],
   "source": [
    "plt.imshow( img_bin, interpolation = 'none'  );"
   ]
  },
  {
   "cell_type": "code",
   "execution_count": null,
   "id": "e649d0d6-5688-4aba-a15c-b221c304c82f",
   "metadata": {},
   "outputs": [],
   "source": [
    "# WithStats -- возвращает и \"статистику\", например, положение окружающего  прямоугольника.\n",
    "cmpts = cv.connectedComponentsWithStats( img_bin )"
   ]
  },
  {
   "cell_type": "code",
   "execution_count": 98,
   "id": "59947ffe-7b81-4f38-a2ad-c9671c993e3c",
   "metadata": {},
   "outputs": [
    {
     "data": {
      "image/png": "[encoded data removed]",
      "text/plain": [
       "<Figure size 432x288 with 1 Axes>"
      ]
     },
     "metadata": {
      "needs_background": "light"
     },
     "output_type": "display_data"
    }
   ],
   "source": [
    "plt.imshow( cmpts[1], interpolation = 'none'  );"
   ]
  },
  {
   "cell_type": "code",
   "execution_count": 99,
   "id": "a284cd1f-5e9e-47a2-9a43-8865097c9df6",
   "metadata": {},
   "outputs": [
    {
     "data": {
      "text/plain": [
       "array([[    0,     0,   200,   200, 37573],\n",
       "       [  100,    30,    41,    21,   861],\n",
       "       [   35,    45,    31,    31,   709],\n",
       "       [  100,   125,     3,     3,     9],\n",
       "       [  137,   147,    27,    27,   529],\n",
       "       [   39,   169,    23,    23,   319]], dtype=int32)"
      ]
     },
     "execution_count": 99,
     "metadata": {},
     "output_type": "execute_result"
    }
   ],
   "source": [
    "cmpts[2]# Наш круг последний"
   ]
  },
  {
   "cell_type": "code",
   "execution_count": 100,
   "id": "e0a7c95c-7470-4138-b475-fd97bffcd8c0",
   "metadata": {},
   "outputs": [
    {
     "data": {
      "image/png": "[encoded data removed]",
      "text/plain": [
       "<Figure size 432x288 with 1 Axes>"
      ]
     },
     "metadata": {
      "needs_background": "light"
     },
     "output_type": "display_data"
    }
   ],
   "source": [
    "obj = cmpts[1][169:169+23,39:39+23]\n",
    "plt.imshow( obj, interpolation = 'none'  );"
   ]
  },
  {
   "cell_type": "markdown",
   "id": "1301eafd-1aef-489c-9b0d-e40bba973f38",
   "metadata": {},
   "source": [
    "Превратим это изображение в бинарное, а затем инвертируем его. "
   ]
  },
  {
   "cell_type": "code",
   "execution_count": 136,
   "id": "02644cbb-fe8e-4e78-942c-8483e1f1668a",
   "metadata": {},
   "outputs": [
    {
     "data": {
      "text/plain": [
       "array([0, 5], dtype=int32)"
      ]
     },
     "execution_count": 136,
     "metadata": {},
     "output_type": "execute_result"
    }
   ],
   "source": [
    "np.unique(obj)"
   ]
  },
  {
   "cell_type": "code",
   "execution_count": 101,
   "id": "6f3968c1-98b0-4e0f-b57d-2cfd64910834",
   "metadata": {},
   "outputs": [
    {
     "data": {
      "text/plain": [
       "array([False,  True])"
      ]
     },
     "execution_count": 101,
     "metadata": {},
     "output_type": "execute_result"
    }
   ],
   "source": [
    "obj = obj == 5\n",
    "np.unique(obj)"
   ]
  },
  {
   "cell_type": "code",
   "execution_count": 102,
   "id": "8af26233-9b8e-42d1-8f56-a095bf16a821",
   "metadata": {},
   "outputs": [
    {
     "data": {
      "text/plain": [
       "array([0, 1])"
      ]
     },
     "execution_count": 102,
     "metadata": {},
     "output_type": "execute_result"
    }
   ],
   "source": [
    "obj = 1-obj # Инвентируем изображение.\n",
    "np.unique(obj)"
   ]
  },
  {
   "cell_type": "code",
   "execution_count": 103,
   "id": "17f59e78-699a-4e93-9cd1-ad1710e758c4",
   "metadata": {},
   "outputs": [
    {
     "data": {
      "image/png": "[encoded data removed]",
      "text/plain": [
       "<Figure size 432x288 with 1 Axes>"
      ]
     },
     "metadata": {
      "needs_background": "light"
     },
     "output_type": "display_data"
    }
   ],
   "source": [
    "obj = np.uint8(obj)\n",
    "plt.imshow( obj, interpolation = 'none'  );"
   ]
  },
  {
   "cell_type": "markdown",
   "id": "f4e14e8b-7163-4fe2-b0c4-a98546f5a04c",
   "metadata": {},
   "source": [
    "Закрасим углы черным, чтобы они нам не мешали.\n",
    "Функция floodFill выполняет заливку изображения каким-то цветом по указанной точке старта. "
   ]
  },
  {
   "cell_type": "code",
   "execution_count": 104,
   "id": "85accb1a-0ca9-4eec-954c-5445499ceebf",
   "metadata": {},
   "outputs": [
    {
     "data": {
      "image/png": "[encoded data removed]",
      "text/plain": [
       "<Figure size 432x288 with 1 Axes>"
      ]
     },
     "metadata": {
      "needs_background": "light"
     },
     "output_type": "display_data"
    }
   ],
   "source": [
    "mask1 = np.zeros((obj.shape[0]+2, obj.shape[0]+2), np.uint8)\n",
    "cv.floodFill( obj, mask1, (0,0), 0)\n",
    "cv.floodFill( obj, mask1, (obj.shape[0]-1, obj.shape[0]-1), 0)\n",
    "cv.floodFill( obj, mask1, (obj.shape[0]-1, 0), 0)\n",
    "cv.floodFill( obj, mask1, (0, obj.shape[0]-1), 0)\n",
    "\n",
    "plt.imshow( obj, interpolation = 'none'  );"
   ]
  },
  {
   "cell_type": "markdown",
   "id": "0764de3f-8172-4850-8628-3b40ebec76f3",
   "metadata": {},
   "source": [
    "Таким образом, мы убрали мешающие углы изображения, и у нас остались только дырки. Функция connectedComponets возвращает 3 компоненты (2 дырки + фон)"
   ]
  },
  {
   "cell_type": "code",
   "execution_count": 105,
   "id": "279bc12a-7526-4ea2-8dd6-9d64a78ca4fc",
   "metadata": {},
   "outputs": [
    {
     "data": {
      "text/plain": [
       "3"
      ]
     },
     "execution_count": 105,
     "metadata": {},
     "output_type": "execute_result"
    }
   ],
   "source": [
    "cmpts_obj = cv.connectedComponentsWithStats( obj )\n",
    "cmpts_obj[0]"
   ]
  },
  {
   "cell_type": "markdown",
   "id": "f7369387-d594-4906-b628-a19470fc05fa",
   "metadata": {},
   "source": [
    "Для объекта без дырок код также работает корректно."
   ]
  },
  {
   "cell_type": "code",
   "execution_count": 106,
   "id": "63b1fd6b-eb5c-4b41-9b03-357bc04e653c",
   "metadata": {},
   "outputs": [
    {
     "data": {
      "image/png": "[encoded data removed]",
      "text/plain": [
       "<Figure size 432x288 with 1 Axes>"
      ]
     },
     "metadata": {
      "needs_background": "light"
     },
     "output_type": "display_data"
    }
   ],
   "source": [
    "obj = cmpts[1][45:45+31,35:35+31]\n",
    "plt.imshow( obj, interpolation = 'none'  );"
   ]
  },
  {
   "cell_type": "code",
   "execution_count": 107,
   "id": "9dc2a4c1-4160-46db-9cfe-859ba91dec80",
   "metadata": {},
   "outputs": [],
   "source": [
    "obj = obj != 0 # Другой способ инвертирования. Работает и когда истина задается не 1."
   ]
  },
  {
   "cell_type": "code",
   "execution_count": 108,
   "id": "cc54fcea-7fbd-4130-a188-78952398723b",
   "metadata": {},
   "outputs": [
    {
     "data": {
      "image/png": "[encoded data removed]",
      "text/plain": [
       "<Figure size 432x288 with 1 Axes>"
      ]
     },
     "metadata": {
      "needs_background": "light"
     },
     "output_type": "display_data"
    }
   ],
   "source": [
    "obj = np.uint8(1-obj)\n",
    "plt.imshow( obj, interpolation = 'none'  );"
   ]
  },
  {
   "cell_type": "markdown",
   "id": "999c7bf0-7601-4d55-8b23-686c92b02a04",
   "metadata": {},
   "source": [
    "По аналогии закрасим углы черным."
   ]
  },
  {
   "cell_type": "code",
   "execution_count": 109,
   "id": "82da45d7-753d-4fbe-850e-cb260711e48f",
   "metadata": {},
   "outputs": [
    {
     "data": {
      "image/png": "[encoded data removed]",
      "text/plain": [
       "<Figure size 432x288 with 1 Axes>"
      ]
     },
     "metadata": {
      "needs_background": "light"
     },
     "output_type": "display_data"
    }
   ],
   "source": [
    "mask1 = np.zeros((obj.shape[0]+2, obj.shape[0]+2), np.uint8)\n",
    "cv.floodFill( obj, mask1, (0,0), 0)\n",
    "cv.floodFill( obj, mask1, (obj.shape[0]-1, obj.shape[0]-1), 0)\n",
    "cv.floodFill( obj, mask1, (obj.shape[0]-1, 0), 0)\n",
    "cv.floodFill( obj, mask1, (0, obj.shape[0]-1), 0)\n",
    "\n",
    "plt.imshow( obj, interpolation = 'none'  );"
   ]
  },
  {
   "cell_type": "markdown",
   "id": "2f7c9881-8fe9-46f5-8625-dc341787be30",
   "metadata": {},
   "source": [
    "Видно, что объектов нет."
   ]
  },
  {
   "cell_type": "code",
   "execution_count": 110,
   "id": "5e293730-7096-4769-9553-736d4c85090f",
   "metadata": {},
   "outputs": [
    {
     "data": {
      "text/plain": [
       "1"
      ]
     },
     "execution_count": 110,
     "metadata": {},
     "output_type": "execute_result"
    }
   ],
   "source": [
    "cmpts_obj = cv.connectedComponentsWithStats( obj )\n",
    "cmpts_obj[0]"
   ]
  },
  {
   "cell_type": "code",
   "execution_count": null,
   "id": "ff381986-f7aa-420e-8c01-df7b194e3d78",
   "metadata": {},
   "outputs": [],
   "source": []
  }
 ],
 "metadata": {
  "kernelspec": {
   "display_name": ".venv",
   "language": "python",
   "name": "python3"
  },
  "language_info": {
   "codemirror_mode": {
    "name": "ipython",
    "version": 3
   },
   "file_extension": ".py",
   "mimetype": "text/x-python",
   "name": "python",
   "nbconvert_exporter": "python",
   "pygments_lexer": "ipython3",
   "version": "3.12.7"
  }
 },
 "nbformat": 4,
 "nbformat_minor": 5
}
